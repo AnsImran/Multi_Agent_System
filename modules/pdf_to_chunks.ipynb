{
 "cells": [
  {
   "cell_type": "code",
   "execution_count": null,
   "id": "901b52eb-0598-4b5e-b47a-9a18c8e03ec0",
   "metadata": {},
   "outputs": [
    {
     "name": "stdout",
     "output_type": "stream",
     "text": [
      "OPENAI_API_KEY:  ········\n",
      "TIMESCALE_DB_URI:  ········\n",
      "TAVILY_API_KEY:  ········\n"
     ]
    }
   ],
   "source": [
    "# adding langsmith and openai api keys in the environment\n",
    "\n",
    "import os, getpass\n",
    "\n",
    "def _set_env(var: str):\n",
    "    # Check if the variable is set in the OS environment\n",
    "    env_value = os.environ.get(var)\n",
    "    if not env_value:\n",
    "        # If not set, prompt the user for input\n",
    "        env_value = getpass.getpass(f\"{var}: \")\n",
    "    \n",
    "    # Set the environment variable for the current process\n",
    "    os.environ[var] = env_value\n",
    "\n",
    "\n",
    "\n",
    "# _set_env(\"LANGCHAIN_API_KEY\")\n",
    "# os.environ[\"LANGCHAIN_TRACING_V2\"] = \"true\"\n",
    "# os.environ[\"LANGCHAIN_PROJECT\"] = \"langchain-academy\"\n",
    "\n",
    "_set_env(\"OPENAI_API_KEY\")\n",
    "_set_env(\"TIMESCALE_DB_URI\")\n",
    "_set_env(\"TAVILY_API_KEY\")\n"
   ]
  },
  {
   "cell_type": "code",
   "execution_count": 26,
   "id": "7377d1c9-4908-48f9-af18-6d8b7136af6c",
   "metadata": {},
   "outputs": [],
   "source": [
    "import fitz  # PyMuPDF\n",
    "import pandas as pd\n",
    "import csv\n",
    "\n",
    "def pdf_to_csv(pdf_path: str,\n",
    "               csv_path: str,\n",
    "               subject: str,\n",
    "               sub_subject: str,\n",
    "               book_name: str,\n",
    "               author_name: str,\n",
    "               extra_metadata: dict = None):\n",
    "    \"\"\"\n",
    "    Extracts each page of the PDF into rows of a CSV with metadata columns.\n",
    "    \n",
    "    :param pdf_path: path to input PDF\n",
    "    :param csv_path: path to output CSV\n",
    "    :param subject: top-level subject (e.g. \"Physics\")\n",
    "    :param sub_subject: more specific topic (e.g. \"Quantum Mechanics\")\n",
    "    :param book_name: title of the book\n",
    "    :param author_name: name of the author\n",
    "    :param extra_metadata: dict of any other constant metadata columns you want\n",
    "    \"\"\"\n",
    "    # Prepare list to collect rows\n",
    "    records = []\n",
    "    doc = fitz.open(pdf_path)\n",
    "    \n",
    "    # Default extra metadata\n",
    "    extra_metadata = extra_metadata or {}\n",
    "    \n",
    "    for page_index in range(len(doc)):\n",
    "        page = doc.load_page(page_index)\n",
    "        text = page.get_text().strip()\n",
    "        word_count = len(text.split())\n",
    "        \n",
    "        row = {\n",
    "            \"subject\": subject,\n",
    "            \"sub_subject\": sub_subject,\n",
    "            \"book_name\": book_name,\n",
    "            \"author_name\": author_name,\n",
    "            \"page_number\": page_index + 1,\n",
    "            \"word_count\": word_count,\n",
    "            \"text\": text,\n",
    "        }\n",
    "        # merge in any extra constant metadata\n",
    "        row.update(extra_metadata)\n",
    "        records.append(row)\n",
    "    \n",
    "    # Create DataFrame and write CSV\n",
    "    df = pd.DataFrame.from_records(records)\n",
    "    # Reorder columns if you like:\n",
    "    cols = [\"subject\", \"sub_subject\", \"book_name\", \"author_name\"] \\\n",
    "           + sorted(set(df.columns) - {\"subject\",\"sub_subject\",\"book_name\",\"author_name\"})            \n",
    "    df = df[cols]\n",
    "\n",
    "    df.to_csv(\n",
    "    csv_path,\n",
    "    index=False,\n",
    "    encoding=\"utf-8\",\n",
    "    quoting=csv.QUOTE_ALL,\n",
    "    escapechar='\\\\'\n",
    "    )\n",
    "\n",
    "#    df.to_csv(csv_path, index=False, encoding=\"utf-8\")\n",
    "    print(f\"Wrote {len(df)} pages to {csv_path}\")\n"
   ]
  },
  {
   "cell_type": "code",
   "execution_count": 27,
   "id": "61e4b103-fa68-4529-ae86-00e727a13a75",
   "metadata": {},
   "outputs": [
    {
     "name": "stdout",
     "output_type": "stream",
     "text": [
      "Wrote 688 pages to ./data/feynman_vol_3_chunked.csv\n"
     ]
    }
   ],
   "source": [
    "# # ── Example usage ──\n",
    "# if __name__ == \"__main__\":\n",
    "#     pdf_path     = \"your_book.pdf\"\n",
    "#     output_csv   = \"book_pages.csv\"\n",
    "#     subject      = \"Physics\"\n",
    "#     sub_subject  = \"Quantum Mechanics\"\n",
    "#     book_name    = \"Introduction to Quantum Theory\"\n",
    "#     author_name  = \"Jane Doe\"\n",
    "#     extra_meta   = {\n",
    "#         \"publication_year\": 2021,\n",
    "#         \"publisher\": \"Acme Academic Press\"\n",
    "#     }\n",
    "    \n",
    "pdf_to_csv(pdf_path=      './data/The Feynman Lectures on Physics - Vol 3 - Quantum Mechanics.pdf',\n",
    "           csv_path=      './data/feynman_vol_3_chunked.csv',\n",
    "           subject=       'Physics',\n",
    "           sub_subject=   'Quantum Mechanics',\n",
    "           book_name=     'The Feynman Lectures on Physics - Vol 3 - Quantum Mechanics',\n",
    "           author_name=   'Richard Feynman',\n",
    "           extra_metadata=None)\n"
   ]
  },
  {
   "cell_type": "code",
   "execution_count": 28,
   "id": "acc4f571-35ab-4a5a-9b29-1f41ab96b7fb",
   "metadata": {},
   "outputs": [],
   "source": [
    "# pdf_path = './data/The Feynman Lectures on Physics - Vol 3 - Quantum Mechanics.pdf'\n",
    "# doc      = fitz.open(pdf_path)\n"
   ]
  },
  {
   "cell_type": "code",
   "execution_count": 29,
   "id": "d53ef61b-70d2-49c0-95d5-51449034ebfb",
   "metadata": {},
   "outputs": [],
   "source": [
    "# doc"
   ]
  },
  {
   "cell_type": "code",
   "execution_count": 30,
   "id": "0767d44b-c416-4907-abeb-24f9faac9cfa",
   "metadata": {},
   "outputs": [],
   "source": [
    "# for page_index in range(10):\n",
    "#     print(doc.load_page(page_index))\n",
    "#     print(doc.load_page(page_index).get_text().strip())\n",
    "#     print('\\n\\n\\n\\n')\n",
    "    "
   ]
  },
  {
   "cell_type": "code",
   "execution_count": null,
   "id": "e79e310c-7f14-4a5f-ac28-1492957bb1bd",
   "metadata": {},
   "outputs": [],
   "source": []
  },
  {
   "cell_type": "markdown",
   "id": "c3c0ca9b-6c3e-4b5b-bce9-9e369e19c412",
   "metadata": {},
   "source": [
    "## Creating embeddings"
   ]
  },
  {
   "cell_type": "code",
   "execution_count": null,
   "id": "6bc47390-b510-48f5-ab53-badf5290fa2d",
   "metadata": {},
   "outputs": [],
   "source": [
    "# df_whole_book = pd.read_csv('./data/feynman_vol_3_chunked.csv', sep=',')\n",
    "# df_whole_book"
   ]
  },
  {
   "cell_type": "code",
   "execution_count": null,
   "id": "692eb445-af18-4577-8f72-dc7b35979c76",
   "metadata": {},
   "outputs": [],
   "source": [
    "# import openai\n",
    "\n",
    "# # Set your API key\n",
    "# openai.api_key = os.environ.get('OPENAI_API_KEY')\n",
    "\n",
    "# # The text you want to embed\n",
    "# text = \"OpenAI embeddings are powerful!\"\n",
    "\n",
    "# # Make the API call\n",
    "# # embedding dim = 1536 | is model ka output | u cant swap final layer and give a different-dimensional output\n",
    "# # The input must not exceed the max input tokens for the model (8192 tokens for`text-embedding-ada-002`, but for this it'll be diffrent)\n",
    "# response = openai.embeddings.create(\n",
    "#     input=[text],  # input can be a single string or list of strings\n",
    "#     model=\"text-embedding-3-small\")\n",
    "\n",
    "# # Extract the embedding\n",
    "# embedding = response.data[0].embedding\n",
    "\n",
    "# print(\"Embedding vector:\")\n",
    "# print(embedding)\n"
   ]
  },
  {
   "cell_type": "code",
   "execution_count": null,
   "id": "a39f6b12-82ee-49f9-8e9c-f3db2647318b",
   "metadata": {},
   "outputs": [],
   "source": [
    "# df_whole_book.dtypes"
   ]
  },
  {
   "cell_type": "code",
   "execution_count": null,
   "id": "13019368-37cd-46cb-9ddb-a1e8bfdef98c",
   "metadata": {},
   "outputs": [],
   "source": [
    "# df_whole_book.text[3]"
   ]
  },
  {
   "cell_type": "code",
   "execution_count": null,
   "id": "6b582b1b-f134-4275-9137-310ab33bd1c8",
   "metadata": {},
   "outputs": [],
   "source": [
    "# type(df_whole_book.text[3])"
   ]
  },
  {
   "cell_type": "code",
   "execution_count": null,
   "id": "f2541932-39c6-4827-899d-514abd4eb269",
   "metadata": {},
   "outputs": [],
   "source": [
    "# df_chap_1 = df_whole_book.iloc[28:47]\n",
    "# df_chap_1"
   ]
  },
  {
   "cell_type": "code",
   "execution_count": null,
   "id": "eb5e027a-2aaf-4295-ad4b-af9c9b7a9430",
   "metadata": {},
   "outputs": [],
   "source": [
    "# df_chap_1.text"
   ]
  },
  {
   "cell_type": "code",
   "execution_count": null,
   "id": "4b4fcef2-2644-4076-91b2-e0d4a110f308",
   "metadata": {},
   "outputs": [],
   "source": [
    "# list(df_chap_1.text)"
   ]
  },
  {
   "cell_type": "code",
   "execution_count": null,
   "id": "8238dd00-d66e-4826-b76b-65ec49c5add4",
   "metadata": {},
   "outputs": [],
   "source": [
    "# len(list(df_chap_1.text))\n"
   ]
  },
  {
   "cell_type": "code",
   "execution_count": null,
   "id": "029c8dda-5cdb-47f3-8e90-f0db962108ca",
   "metadata": {},
   "outputs": [],
   "source": [
    "# chap_1_embedded = openai.embeddings.create(\n",
    "#                                             input=list(df_chap_1.text),  # input can be a single string or list of strings\n",
    "#                                             model=\"text-embedding-3-small\"\n",
    "#                                             )\n"
   ]
  },
  {
   "cell_type": "code",
   "execution_count": null,
   "id": "a22a6be2-08e1-492c-921c-8cf08cf7b337",
   "metadata": {},
   "outputs": [],
   "source": [
    "# len(chap_1_embedded.data)"
   ]
  },
  {
   "cell_type": "code",
   "execution_count": null,
   "id": "3ba52c9d-40b0-44f7-b408-02355f605f86",
   "metadata": {},
   "outputs": [],
   "source": [
    "# list_of_embeddings = [i.embedding for i in chap_1_embedded.data]"
   ]
  },
  {
   "cell_type": "code",
   "execution_count": null,
   "id": "7ae385d6-3204-4494-8be3-a9b6fca2e7e9",
   "metadata": {},
   "outputs": [],
   "source": [
    "# len(list_of_embeddings)"
   ]
  },
  {
   "cell_type": "code",
   "execution_count": null,
   "id": "f8dc0581-c538-41bc-a233-ab3dd984efe8",
   "metadata": {},
   "outputs": [],
   "source": [
    "# df_chap_1['embeddings'] = list_of_embeddings\n"
   ]
  },
  {
   "cell_type": "code",
   "execution_count": null,
   "id": "350b1fd7-db4c-4be6-b87c-948d9eb4dca1",
   "metadata": {},
   "outputs": [],
   "source": [
    "# df_chap_1.reset_index(inplace=True, drop=True)\n",
    "# df_chap_1"
   ]
  },
  {
   "cell_type": "code",
   "execution_count": null,
   "id": "cd5c9bd1-d1c9-4c36-bcea-b4ae6ff127a0",
   "metadata": {},
   "outputs": [],
   "source": [
    "# df_chap_1.to_csv('./data/chap_1_feynman_embedded.csv')\n"
   ]
  },
  {
   "cell_type": "code",
   "execution_count": null,
   "id": "6ebbea32-0b57-48ac-a12e-06bb1edda980",
   "metadata": {},
   "outputs": [],
   "source": [
    "# import pandas as pd\n",
    "\n",
    "# df_chap_1 = pd.read_csv('./data/chap_1_feynman_embedded.csv', sep=',')\n",
    "# df_chap_1\n"
   ]
  },
  {
   "cell_type": "code",
   "execution_count": null,
   "id": "f4ab716c-08b2-4223-9958-b8993a70a0d9",
   "metadata": {},
   "outputs": [],
   "source": [
    "# import uuid\n",
    "# ids = [str(uuid.uuid4()) for i in range(len(df_chap_1.page_number))]\n",
    "# ids\n"
   ]
  },
  {
   "cell_type": "code",
   "execution_count": null,
   "id": "ba9f51d3-375c-4a66-8341-7b531aa25766",
   "metadata": {
    "scrolled": true
   },
   "outputs": [],
   "source": [
    "# df_chap_1.drop(columns=['Unnamed: 0'], inplace=True)\n",
    "# df_chap_1"
   ]
  },
  {
   "cell_type": "code",
   "execution_count": null,
   "id": "682fd56b-95e0-4221-87db-b406d62ba855",
   "metadata": {},
   "outputs": [],
   "source": [
    "# df_chap_1.index = ids\n",
    "# df_chap_1"
   ]
  },
  {
   "cell_type": "code",
   "execution_count": null,
   "id": "f20c5f1c-1cf1-4e35-a7d5-c15df1761e24",
   "metadata": {
    "scrolled": true
   },
   "outputs": [],
   "source": [
    "# df_chap_1"
   ]
  },
  {
   "cell_type": "code",
   "execution_count": 10,
   "id": "79744b22-8d91-40fe-ba72-f0f267beb0b7",
   "metadata": {},
   "outputs": [],
   "source": [
    "# df_chap_1.to_csv('./data/chap_1_feynman_embedded.csv')\n"
   ]
  },
  {
   "cell_type": "code",
   "execution_count": 9,
   "id": "48071252-8c89-4f1b-b30e-c4c4dd95a02c",
   "metadata": {},
   "outputs": [],
   "source": [
    "# import pandas as pd\n",
    "\n",
    "# df_chap_1 = pd.read_csv('./data/chap_1_feynman_embedded.csv', sep=',')\n",
    "# df_chap_1\n"
   ]
  },
  {
   "cell_type": "code",
   "execution_count": null,
   "id": "f125b411-f9a3-4cb9-a45b-fd5d7c517b3c",
   "metadata": {},
   "outputs": [],
   "source": [
    "# df_chap_1.rename(columns={'Unnamed: 0':'id'}, inplace=True)#,'text':'content','embeddings':'embedding'})\n",
    "# df_chap_1\n"
   ]
  },
  {
   "cell_type": "code",
   "execution_count": 11,
   "id": "93c404cc-d4d2-4019-bcd0-c7c92880c6a5",
   "metadata": {},
   "outputs": [
    {
     "data": {
      "text/html": [
       "<div>\n",
       "<style scoped>\n",
       "    .dataframe tbody tr th:only-of-type {\n",
       "        vertical-align: middle;\n",
       "    }\n",
       "\n",
       "    .dataframe tbody tr th {\n",
       "        vertical-align: top;\n",
       "    }\n",
       "\n",
       "    .dataframe thead th {\n",
       "        text-align: right;\n",
       "    }\n",
       "</style>\n",
       "<table border=\"1\" class=\"dataframe\">\n",
       "  <thead>\n",
       "    <tr style=\"text-align: right;\">\n",
       "      <th></th>\n",
       "      <th>id</th>\n",
       "      <th>subject</th>\n",
       "      <th>sub_subject</th>\n",
       "      <th>book_name</th>\n",
       "      <th>author_name</th>\n",
       "      <th>page_number</th>\n",
       "      <th>text</th>\n",
       "      <th>word_count</th>\n",
       "      <th>embeddings</th>\n",
       "    </tr>\n",
       "  </thead>\n",
       "  <tbody>\n",
       "    <tr>\n",
       "      <th>0</th>\n",
       "      <td>ed7f8a03-87e8-4f66-a227-8115df44cdb5</td>\n",
       "      <td>Physics</td>\n",
       "      <td>Quantum Mechanics</td>\n",
       "      <td>The Feynman Lectures on Physics - Vol 3 - Quan...</td>\n",
       "      <td>Richard Feynman</td>\n",
       "      <td>29</td>\n",
       "      <td>Because atomic behavior is so unlike ordinary ...</td>\n",
       "      <td>297</td>\n",
       "      <td>[-0.012086129747331142, 0.023089729249477386, ...</td>\n",
       "    </tr>\n",
       "    <tr>\n",
       "      <th>1</th>\n",
       "      <td>2c027077-920a-46ef-a9ed-48282350a36a</td>\n",
       "      <td>Physics</td>\n",
       "      <td>Quantum Mechanics</td>\n",
       "      <td>The Feynman Lectures on Physics - Vol 3 - Quan...</td>\n",
       "      <td>Richard Feynman</td>\n",
       "      <td>30</td>\n",
       "      <td>of bullets. It is not a very good gun, in that...</td>\n",
       "      <td>547</td>\n",
       "      <td>[0.005632385145872831, -0.010357311926782131, ...</td>\n",
       "    </tr>\n",
       "    <tr>\n",
       "      <th>2</th>\n",
       "      <td>e25847e6-0132-415c-a778-2a97644472a0</td>\n",
       "      <td>Physics</td>\n",
       "      <td>Quantum Mechanics</td>\n",
       "      <td>The Feynman Lectures on Physics - Vol 3 - Quan...</td>\n",
       "      <td>Richard Feynman</td>\n",
       "      <td>31</td>\n",
       "      <td>small if x is very large. You may wonder, howe...</td>\n",
       "      <td>278</td>\n",
       "      <td>[0.01162712275981903, 0.006917905528098345, 0....</td>\n",
       "    </tr>\n",
       "    <tr>\n",
       "      <th>3</th>\n",
       "      <td>91e24446-c691-4e1f-b3aa-a4664306bf82</td>\n",
       "      <td>Physics</td>\n",
       "      <td>Quantum Mechanics</td>\n",
       "      <td>The Feynman Lectures on Physics - Vol 3 - Quan...</td>\n",
       "      <td>Richard Feynman</td>\n",
       "      <td>32</td>\n",
       "      <td>makes circular waves. To the right of the sour...</td>\n",
       "      <td>514</td>\n",
       "      <td>[0.009899104945361614, 0.015257214196026325, -...</td>\n",
       "    </tr>\n",
       "  </tbody>\n",
       "</table>\n",
       "</div>"
      ],
      "text/plain": [
       "                                     id  subject        sub_subject  \\\n",
       "0  ed7f8a03-87e8-4f66-a227-8115df44cdb5  Physics  Quantum Mechanics   \n",
       "1  2c027077-920a-46ef-a9ed-48282350a36a  Physics  Quantum Mechanics   \n",
       "2  e25847e6-0132-415c-a778-2a97644472a0  Physics  Quantum Mechanics   \n",
       "3  91e24446-c691-4e1f-b3aa-a4664306bf82  Physics  Quantum Mechanics   \n",
       "\n",
       "                                           book_name      author_name  \\\n",
       "0  The Feynman Lectures on Physics - Vol 3 - Quan...  Richard Feynman   \n",
       "1  The Feynman Lectures on Physics - Vol 3 - Quan...  Richard Feynman   \n",
       "2  The Feynman Lectures on Physics - Vol 3 - Quan...  Richard Feynman   \n",
       "3  The Feynman Lectures on Physics - Vol 3 - Quan...  Richard Feynman   \n",
       "\n",
       "   page_number                                               text  word_count  \\\n",
       "0           29  Because atomic behavior is so unlike ordinary ...         297   \n",
       "1           30  of bullets. It is not a very good gun, in that...         547   \n",
       "2           31  small if x is very large. You may wonder, howe...         278   \n",
       "3           32  makes circular waves. To the right of the sour...         514   \n",
       "\n",
       "                                          embeddings  \n",
       "0  [-0.012086129747331142, 0.023089729249477386, ...  \n",
       "1  [0.005632385145872831, -0.010357311926782131, ...  \n",
       "2  [0.01162712275981903, 0.006917905528098345, 0....  \n",
       "3  [0.009899104945361614, 0.015257214196026325, -...  "
      ]
     },
     "execution_count": 11,
     "metadata": {},
     "output_type": "execute_result"
    }
   ],
   "source": [
    "df_chap_1.head(4)\n"
   ]
  },
  {
   "cell_type": "code",
   "execution_count": null,
   "id": "ee87cd7a-d029-4a8b-b083-2acaf4b79649",
   "metadata": {},
   "outputs": [],
   "source": []
  },
  {
   "cell_type": "code",
   "execution_count": null,
   "id": "0db5a263-853a-4cd0-b1ca-078335fe5c37",
   "metadata": {},
   "outputs": [],
   "source": []
  },
  {
   "cell_type": "code",
   "execution_count": null,
   "id": "b443deb2-f28b-46ab-aad0-cfdb19134b91",
   "metadata": {},
   "outputs": [],
   "source": []
  },
  {
   "cell_type": "markdown",
   "id": "8dbb42f3-bf1b-4589-b3d4-c156abbeb921",
   "metadata": {},
   "source": [
    "# Creating Table in the database and storing data"
   ]
  },
  {
   "cell_type": "code",
   "execution_count": 43,
   "id": "8e43ab92-3309-41f3-ac64-363e9bec7693",
   "metadata": {},
   "outputs": [
    {
     "data": {
      "text/html": [
       "<div>\n",
       "<style scoped>\n",
       "    .dataframe tbody tr th:only-of-type {\n",
       "        vertical-align: middle;\n",
       "    }\n",
       "\n",
       "    .dataframe tbody tr th {\n",
       "        vertical-align: top;\n",
       "    }\n",
       "\n",
       "    .dataframe thead th {\n",
       "        text-align: right;\n",
       "    }\n",
       "</style>\n",
       "<table border=\"1\" class=\"dataframe\">\n",
       "  <thead>\n",
       "    <tr style=\"text-align: right;\">\n",
       "      <th></th>\n",
       "      <th>id</th>\n",
       "      <th>metadata</th>\n",
       "      <th>contents</th>\n",
       "      <th>embedding</th>\n",
       "    </tr>\n",
       "  </thead>\n",
       "  <tbody>\n",
       "    <tr>\n",
       "      <th>0</th>\n",
       "      <td>ed7f8a03-87e8-4f66-a227-8115df44cdb5</td>\n",
       "      <td>{'subject': 'Physics', 'sub_subject': 'Quantum...</td>\n",
       "      <td>Because atomic behavior is so unlike ordinary ...</td>\n",
       "      <td>[-0.012086129747331142, 0.023089729249477386, ...</td>\n",
       "    </tr>\n",
       "    <tr>\n",
       "      <th>1</th>\n",
       "      <td>2c027077-920a-46ef-a9ed-48282350a36a</td>\n",
       "      <td>{'subject': 'Physics', 'sub_subject': 'Quantum...</td>\n",
       "      <td>of bullets. It is not a very good gun, in that...</td>\n",
       "      <td>[0.005632385145872831, -0.010357311926782131, ...</td>\n",
       "    </tr>\n",
       "    <tr>\n",
       "      <th>2</th>\n",
       "      <td>e25847e6-0132-415c-a778-2a97644472a0</td>\n",
       "      <td>{'subject': 'Physics', 'sub_subject': 'Quantum...</td>\n",
       "      <td>small if x is very large. You may wonder, howe...</td>\n",
       "      <td>[0.01162712275981903, 0.006917905528098345, 0....</td>\n",
       "    </tr>\n",
       "    <tr>\n",
       "      <th>3</th>\n",
       "      <td>91e24446-c691-4e1f-b3aa-a4664306bf82</td>\n",
       "      <td>{'subject': 'Physics', 'sub_subject': 'Quantum...</td>\n",
       "      <td>makes circular waves. To the right of the sour...</td>\n",
       "      <td>[0.009899104945361614, 0.015257214196026325, -...</td>\n",
       "    </tr>\n",
       "    <tr>\n",
       "      <th>4</th>\n",
       "      <td>117274b6-4764-4592-8b85-3b89d9ffbe9e</td>\n",
       "      <td>{'subject': 'Physics', 'sub_subject': 'Quantum...</td>\n",
       "      <td>the detector will be the diﬀerence of the two ...</td>\n",
       "      <td>[-0.0022454969584941864, 0.013245043344795704,...</td>\n",
       "    </tr>\n",
       "  </tbody>\n",
       "</table>\n",
       "</div>"
      ],
      "text/plain": [
       "                                     id  \\\n",
       "0  ed7f8a03-87e8-4f66-a227-8115df44cdb5   \n",
       "1  2c027077-920a-46ef-a9ed-48282350a36a   \n",
       "2  e25847e6-0132-415c-a778-2a97644472a0   \n",
       "3  91e24446-c691-4e1f-b3aa-a4664306bf82   \n",
       "4  117274b6-4764-4592-8b85-3b89d9ffbe9e   \n",
       "\n",
       "                                            metadata  \\\n",
       "0  {'subject': 'Physics', 'sub_subject': 'Quantum...   \n",
       "1  {'subject': 'Physics', 'sub_subject': 'Quantum...   \n",
       "2  {'subject': 'Physics', 'sub_subject': 'Quantum...   \n",
       "3  {'subject': 'Physics', 'sub_subject': 'Quantum...   \n",
       "4  {'subject': 'Physics', 'sub_subject': 'Quantum...   \n",
       "\n",
       "                                            contents  \\\n",
       "0  Because atomic behavior is so unlike ordinary ...   \n",
       "1  of bullets. It is not a very good gun, in that...   \n",
       "2  small if x is very large. You may wonder, howe...   \n",
       "3  makes circular waves. To the right of the sour...   \n",
       "4  the detector will be the diﬀerence of the two ...   \n",
       "\n",
       "                                           embedding  \n",
       "0  [-0.012086129747331142, 0.023089729249477386, ...  \n",
       "1  [0.005632385145872831, -0.010357311926782131, ...  \n",
       "2  [0.01162712275981903, 0.006917905528098345, 0....  \n",
       "3  [0.009899104945361614, 0.015257214196026325, -...  \n",
       "4  [-0.0022454969584941864, 0.013245043344795704,...  "
      ]
     },
     "execution_count": 43,
     "metadata": {},
     "output_type": "execute_result"
    }
   ],
   "source": [
    "# restructuring the dataframe iff needed\n",
    "\n",
    "from pandas import DataFrame\n",
    "from pandas import Series\n",
    "\n",
    "def restructure_dataframe(unstructured_df: DataFrame) -> DataFrame:\n",
    "    \n",
    "    restructured_df = pd.DataFrame(columns=['id', 'metadata', 'contents', 'embedding'])\n",
    "    \n",
    "    for row in unstructured_df.iterrows():\n",
    "        restructured_df.loc[len(restructured_df)] = {\n",
    "                                                        'id':        row[1].id,\n",
    "                                                        'metadata':  {'subject':row[1].subject, 'sub_subject':row[1].sub_subject, 'book_name':row[1].book_name, 'author_name':row[1].author_name, 'page_number':row[1].page_number, 'word_count':row[1].word_count },\n",
    "                                                        'contents':  row[1].text,\n",
    "                                                        'embedding': row[1].embeddings\n",
    "                                                        }\n",
    "    return restructured_df\n",
    "\n",
    "res_df = restructure_dataframe(df_chap_1)\n",
    "res_df.head(5)\n",
    "    "
   ]
  },
  {
   "cell_type": "code",
   "execution_count": 44,
   "id": "4a628d0e-b1ca-4a5b-8215-94cb6219cd4a",
   "metadata": {},
   "outputs": [],
   "source": [
    "# needed to send records to database\n",
    "records = res_df.to_records(index=False)\n"
   ]
  },
  {
   "cell_type": "code",
   "execution_count": 23,
   "id": "f26cb903-44f5-4e40-8aaa-906fa7bd51b0",
   "metadata": {},
   "outputs": [],
   "source": [
    "# setting up client to store/send data to database\n",
    "\n",
    "from timescale_vector import client\n",
    "import os\n",
    "\n",
    "OPENAI_API_KEY   = os.getenv(\"OPENAI_API_KEY\")\n",
    "TIMESCALE_DB_URI = os.getenv(\"TIMESCALE_DB_URI\")\n",
    "TAVILY_API_KEY   = os.getenv(\"TAVILY_API_KEY\")\n",
    "\n",
    "\n",
    "# query = \"Explain The uncertainty principle in Quantum Mechanics\"\n",
    "\n",
    "\n",
    "# query_embedding = openai.embeddings.create(\n",
    "#                                             input=[query],  # input can be a single string or list of strings\n",
    "#                                             model=\"text-embedding-3-small\"\n",
    "#                                             )\n",
    "\n",
    "\n",
    "table_name     = 'embeddings_table'\n",
    "embedding_dims = 1536\n",
    "\n",
    "# creating client to handle db operations\n",
    "vec_client = client.Sync(\n",
    "                        TIMESCALE_DB_URI,\n",
    "                        table_name,\n",
    "                        embedding_dims\n",
    "                    )"
   ]
  },
  {
   "cell_type": "code",
   "execution_count": 52,
   "id": "b15a821d-3b65-45f2-bb41-b8a1446f3659",
   "metadata": {},
   "outputs": [],
   "source": [
    "# using client to create table\n",
    "# if alreday created it wont create new or delete, given the name is same as before\n",
    "vec_client.create_tables()\n"
   ]
  },
  {
   "cell_type": "code",
   "execution_count": 48,
   "id": "7b801b17-4f58-45a0-b03c-7c8b595233db",
   "metadata": {},
   "outputs": [],
   "source": [
    "# # for faster serach\n",
    "# vec_client.create_embedding_index(client.DiskAnnIndex())\n"
   ]
  },
  {
   "cell_type": "code",
   "execution_count": 49,
   "id": "9a59ec4f-c2ee-451a-83ac-d8214b44535b",
   "metadata": {},
   "outputs": [],
   "source": [
    "# # sending data to vector database\n",
    "# vec_client.upsert(list(records))\n"
   ]
  },
  {
   "cell_type": "code",
   "execution_count": null,
   "id": "ff078ffe-fd5c-41c4-a3bb-de3314a1b1fa",
   "metadata": {},
   "outputs": [],
   "source": []
  },
  {
   "cell_type": "markdown",
   "id": "57c8dd6f-41c6-4e3b-99f3-029bdb3ef825",
   "metadata": {},
   "source": [
    "# Vector search"
   ]
  },
  {
   "cell_type": "code",
   "execution_count": 24,
   "id": "72ea1198-c9ef-49f6-bd2c-8592cea45a08",
   "metadata": {},
   "outputs": [],
   "source": [
    "import openai\n",
    "\n",
    "from timescale_vector import client\n",
    "\n",
    "# OPENAI_API_KEY   = os.getenv(\"OPENAI_API_KEY\")\n",
    "# TIMESCALE_DB_URI = os.getenv(\"TIMESCALE_DB_URL\")\n",
    "\n",
    "\n",
    "query = \"Explain The uncertainty principle in Quantum Mechanics\"\n",
    "\n",
    "\n",
    "query_embedding = openai.embeddings.create(\n",
    "                                            input=[query],  # input can be a single string or list of strings\n",
    "                                            model=\"text-embedding-3-small\"\n",
    "                                            )\n",
    "\n",
    "\n",
    "# table_name     = 'embeddings_table'\n",
    "# embedding_dims = 1536\n",
    "\n",
    "\n",
    "# vec_client = client.Sync(\n",
    "#                         time_scale_DB_URI,\n",
    "#                         table_name,\n",
    "#                         embedding_dims\n",
    "#                     )\n",
    "\n",
    "\n",
    "results = vec_client.search(query_embedding.data[0].embedding, limit=10)\n",
    "\n",
    "\n"
   ]
  },
  {
   "cell_type": "code",
   "execution_count": 25,
   "id": "d1a8e91c-b8ca-4a65-9ee3-dad9f703d8fc",
   "metadata": {},
   "outputs": [
    {
     "data": {
      "text/plain": [
       "[UUID('b7724d1b-8159-44d4-8910-afd57ea59094'),\n",
       " {'subject': 'Physics',\n",
       "  'book_name': 'The Feynman Lectures on Physics - Vol 3 - Quantum Mechanics',\n",
       "  'word_count': 304,\n",
       "  'author_name': 'Richard Feynman',\n",
       "  'page_number': 46,\n",
       "  'sub_subject': 'Quantum Mechanics'},\n",
       " 'Now in order to do this it is necessary to know what the momentum of the\\nscreen is, before the electron goes through. So when we measure the momentum\\nafter the electron goes by, we can ﬁgure out how much the plate’s momentum has\\nchanged. But remember, according to the uncertainty principle we cannot at the\\nsame time know the position of the plate with an arbitrary accuracy. But if we do\\nnot know exactly where the plate is, we cannot say precisely where the two holes\\nare. They will be in a diﬀerent place for every electron that goes through. This\\nmeans that the center of our interference pattern will have a diﬀerent location for\\neach electron. The wiggles of the interference pattern will be smeared out. We\\nshall show quantitatively in the next chapter that if we determine the momentum\\nof the plate suﬃciently accurately to determine from the recoil measurement\\nwhich hole was used, then the uncertainty in the x-position of the plate will,\\naccording to the uncertainty principle, be enough to shift the pattern observed at\\nthe detector up and down in the x-direction about the distance from a maximum\\nto its nearest minimum. Such a random shift is just enough to smear out the\\npattern so that no interference is observed.\\nThe uncertainty principle “protects” quantum mechanics. Heisenberg rec-\\nognized that if it were possible to measure the momentum and the position\\nsimultaneously with a greater accuracy, the quantum mechanics would collapse.\\nSo he proposed that it must be impossible. Then people sat down and tried to\\nﬁgure out ways of doing it, and nobody could ﬁgure out a way to measure the\\nposition and the momentum of anything—a screen, an electron, a billiard ball,\\nanything—with any greater accuracy. Quantum mechanics maintains its perilous\\nbut still correct existence.\\n1-19',\n",
       " array([ 0.00067376,  0.00870856, -0.01693855, ..., -0.02941893,\n",
       "         0.00824889,  0.00992385], shape=(1536,), dtype=float32),\n",
       " 0.3526480197906494]"
      ]
     },
     "execution_count": 25,
     "metadata": {},
     "output_type": "execute_result"
    }
   ],
   "source": [
    "results[0]\n"
   ]
  },
  {
   "cell_type": "code",
   "execution_count": 20,
   "id": "8ffc002e-03d1-49b2-8a38-d4fe077e6f25",
   "metadata": {},
   "outputs": [
    {
     "data": {
      "text/plain": [
       "str"
      ]
     },
     "execution_count": 20,
     "metadata": {},
     "output_type": "execute_result"
    }
   ],
   "source": [
    "type(results[0][2])"
   ]
  },
  {
   "cell_type": "code",
   "execution_count": 22,
   "id": "d294fc3b-7372-4fbc-be2c-892cc4c6fd8b",
   "metadata": {},
   "outputs": [
    {
     "data": {
      "text/plain": [
       "\"{'subject': 'Physics', 'book_name': 'The Feynman Lectures on Physics - Vol 3 - Quantum Mechanics', 'word_count': 304, 'author_name': 'Richard Feynman', 'page_number': 46, 'sub_subject': 'Quantum Mechanics'}Now in order to do this it is necessary to know what the momentum of the\\nscreen is, before the electron goes through. So when we measure the momentum\\nafter the electron goes by, we can ﬁgure out how much the plate’s momentum has\\nchanged. But remember, according to the uncertainty principle we cannot at the\\nsame time know the position of the plate with an arbitrary accuracy. But if we do\\nnot know exactly where the plate is, we cannot say precisely where the two holes\\nare. They will be in a diﬀerent place for every electron that goes through. This\\nmeans that the center of our interference pattern will have a diﬀerent location for\\neach electron. The wiggles of the interference pattern will be smeared out. We\\nshall show quantitatively in the next chapter that if we determine the momentum\\nof the plate suﬃciently accurately to determine from the recoil measurement\\nwhich hole was used, then the uncertainty in the x-position of the plate will,\\naccording to the uncertainty principle, be enough to shift the pattern observed at\\nthe detector up and down in the x-direction about the distance from a maximum\\nto its nearest minimum. Such a random shift is just enough to smear out the\\npattern so that no interference is observed.\\nThe uncertainty principle “protects” quantum mechanics. Heisenberg rec-\\nognized that if it were possible to measure the momentum and the position\\nsimultaneously with a greater accuracy, the quantum mechanics would collapse.\\nSo he proposed that it must be impossible. Then people sat down and tried to\\nﬁgure out ways of doing it, and nobody could ﬁgure out a way to measure the\\nposition and the momentum of anything—a screen, an electron, a billiard ball,\\nanything—with any greater accuracy. Quantum mechanics maintains its perilous\\nbut still correct existence.\\n1-19\""
      ]
     },
     "execution_count": 22,
     "metadata": {},
     "output_type": "execute_result"
    }
   ],
   "source": [
    "str(results[0][1]) + results[0][2]\n"
   ]
  },
  {
   "cell_type": "code",
   "execution_count": null,
   "id": "c5181567-85a1-433c-8d50-3228b4814d86",
   "metadata": {},
   "outputs": [],
   "source": [
    "list_of_strings = [str(row[1])+row[2] for row in results]\n",
    "list_of_strings\n"
   ]
  },
  {
   "cell_type": "code",
   "execution_count": 28,
   "id": "d9faef91-6c89-48b7-9083-f323e3d4c781",
   "metadata": {},
   "outputs": [
    {
     "data": {
      "text/plain": [
       "10"
      ]
     },
     "execution_count": 28,
     "metadata": {},
     "output_type": "execute_result"
    }
   ],
   "source": [
    "len(list_of_strings)"
   ]
  },
  {
   "cell_type": "code",
   "execution_count": 27,
   "id": "69ede2fe-c31d-46ea-90b5-4c1be4b3d055",
   "metadata": {},
   "outputs": [
    {
     "data": {
      "text/plain": [
       "Document(metadata={'subject': 'Physics', 'book_name': 'The Feynman Lectures on Physics - Vol 3 - Quantum Mechanics', 'word_count': 304, 'author_name': 'Richard Feynman', 'page_number': 46, 'sub_subject': 'Quantum Mechanics'}, page_content='Now in order to do this it is necessary to know what the momentum of the\\nscreen is, before the electron goes through. So when we measure the momentum\\nafter the electron goes by, we can ﬁgure out how much the plate’s momentum has\\nchanged. But remember, according to the uncertainty principle we cannot at the\\nsame time know the position of the plate with an arbitrary accuracy. But if we do\\nnot know exactly where the plate is, we cannot say precisely where the two holes\\nare. They will be in a diﬀerent place for every electron that goes through. This\\nmeans that the center of our interference pattern will have a diﬀerent location for\\neach electron. The wiggles of the interference pattern will be smeared out. We\\nshall show quantitatively in the next chapter that if we determine the momentum\\nof the plate suﬃciently accurately to determine from the recoil measurement\\nwhich hole was used, then the uncertainty in the x-position of the plate will,\\naccording to the uncertainty principle, be enough to shift the pattern observed at\\nthe detector up and down in the x-direction about the distance from a maximum\\nto its nearest minimum. Such a random shift is just enough to smear out the\\npattern so that no interference is observed.\\nThe uncertainty principle “protects” quantum mechanics. Heisenberg rec-\\nognized that if it were possible to measure the momentum and the position\\nsimultaneously with a greater accuracy, the quantum mechanics would collapse.\\nSo he proposed that it must be impossible. Then people sat down and tried to\\nﬁgure out ways of doing it, and nobody could ﬁgure out a way to measure the\\nposition and the momentum of anything—a screen, an electron, a billiard ball,\\nanything—with any greater accuracy. Quantum mechanics maintains its perilous\\nbut still correct existence.\\n1-19')"
      ]
     },
     "execution_count": 27,
     "metadata": {},
     "output_type": "execute_result"
    }
   ],
   "source": [
    "doc_s= Document(page_content=results[0][2], metadata=results[0][1])\n",
    "doc_s\n"
   ]
  },
  {
   "cell_type": "code",
   "execution_count": null,
   "id": "f89b727a-81f0-48b8-933e-0d1c86b9f5c2",
   "metadata": {},
   "outputs": [],
   "source": []
  },
  {
   "cell_type": "code",
   "execution_count": null,
   "id": "c6772ce5-061e-420a-b485-7089cefdfd73",
   "metadata": {},
   "outputs": [],
   "source": []
  },
  {
   "cell_type": "markdown",
   "id": "4247716e-6615-4eb0-ad8d-5e43b4a9b95d",
   "metadata": {},
   "source": [
    "# Self-Corrective RAG Agent\n"
   ]
  },
  {
   "cell_type": "code",
   "execution_count": 1,
   "id": "0605936c-f4cc-4931-89aa-8132683eb013",
   "metadata": {},
   "outputs": [
    {
     "name": "stdout",
     "output_type": "stream",
     "text": [
      "OPENAI_API_KEY:  ········\n",
      "TAVILY_API_KEY:  ········\n",
      "TIMESCALE_DB_URI:  ········\n"
     ]
    }
   ],
   "source": [
    "import getpass\n",
    "import os\n",
    "\n",
    "\n",
    "def _set_env(var: str):\n",
    "    if not os.environ.get(var):\n",
    "        os.environ[var] = getpass.getpass(f\"{var}: \")\n",
    "\n",
    "\n",
    "_set_env(\"OPENAI_API_KEY\")\n",
    "_set_env(\"TAVILY_API_KEY\")\n",
    "#_set_env(\"LANGCHAIN_API_KEY\")\n",
    "_set_env(\"TIMESCALE_DB_URI\")"
   ]
  },
  {
   "cell_type": "code",
   "execution_count": 19,
   "id": "199bcc7c-6741-4d3b-882e-76978780db1d",
   "metadata": {},
   "outputs": [
    {
     "name": "stderr",
     "output_type": "stream",
     "text": [
      "C:\\Users\\Ans\\Desktop\\code\\10_agentic_project\\.venv\\lib\\site-packages\\langsmith\\client.py:253: LangSmithMissingAPIKeyWarning: API key must be provided when using hosted LangSmith API\n",
      "  warnings.warn(\n"
     ]
    },
    {
     "data": {
      "image/png": "[encoded data removed]",
      "text/plain": [
       "<IPython.core.display.Image object>"
      ]
     },
     "metadata": {},
     "output_type": "display_data"
    }
   ],
   "source": [
    "## Import dependencies\n",
    "import re\n",
    "from typing import Annotated, Iterator, Literal, TypedDict\n",
    "import openai\n",
    "\n",
    "from langchain import hub\n",
    "from langchain_community.document_loaders import web_base\n",
    "from langchain_community.vectorstores import Chroma\n",
    "from langchain_community.tools.tavily_search import TavilySearchResults\n",
    "from langchain_core.documents import Document\n",
    "from langchain_core.output_parsers import StrOutputParser\n",
    "from langchain_core.messages import BaseMessage, AIMessage, convert_to_messages\n",
    "from langchain_core.prompts import ChatPromptTemplate\n",
    "#from langchain_core.pydantic_v1 import BaseModel, Field\n",
    "from pydantic import BaseModel, Field\n",
    "from langchain_core.retrievers import BaseRetriever\n",
    "from langchain_openai import ChatOpenAI\n",
    "from langchain_openai import OpenAIEmbeddings\n",
    "from langgraph.graph import END, StateGraph, add_messages, MessagesState\n",
    "#from langgraph.checkpoint import MemorySaver\n",
    "\n",
    "\n",
    "\n",
    "\n",
    "\n",
    "# setting up client to store/send data to database\n",
    "from timescale_vector import client\n",
    "import os\n",
    "\n",
    "OPENAI_API_KEY   = os.getenv(\"OPENAI_API_KEY\")\n",
    "TIMESCALE_DB_URI = os.getenv(\"TIMESCALE_DB_URI\")\n",
    "TAVILY_API_KEY   = os.getenv(\"TAVILY_API_KEY\")\n",
    "\n",
    "# query = \"Explain The uncertainty principle in Quantum Mechanics\"\n",
    "\n",
    "# query_embedding = openai.embeddings.create(\n",
    "#                                             input=[query],  # input can be a single string or list of strings\n",
    "#                                             model=\"text-embedding-3-small\"\n",
    "#                                             )\n",
    "\n",
    "table_name     = 'embeddings_table'\n",
    "embedding_dims = 1536\n",
    "\n",
    "# creating client to handle db operations\n",
    "vec_client = client.Sync(\n",
    "                        TIMESCALE_DB_URI,\n",
    "                        table_name,\n",
    "                        embedding_dims\n",
    "                    )\n",
    "\n",
    "\n",
    "\n",
    "\n",
    "## Set up model, retriever (get_docs(...)) & tools\n",
    "NEWLINE_RE = re.compile(\"\\n+\")\n",
    "\n",
    "def get_docs(question: str, documents: list[Document]) -> list[Document]:\n",
    "    \n",
    "    query_embedding = openai.embeddings.create(\n",
    "                                            input=[question],  # input can be a single string or list of strings\n",
    "                                            model=\"text-embedding-3-small\"\n",
    "                                            )\n",
    "    results   = vec_client.search(query_embedding.data[0].embedding, limit=5)\n",
    "\n",
    "    for row in results:\n",
    "        documents.append(Document(page_content=row[2], metadata=row[1]))\n",
    "    return documents\n",
    "\n",
    "    \n",
    "\n",
    "\n",
    "#from langchain_openai import ChatOpenAI\n",
    "# Initialize the model\n",
    "llm    = ChatOpenAI(model=\"gpt-4.1-nano-2025-04-14\", temperature=0)\n",
    "tavily_search_tool = TavilySearchResults(max_results=3)\n",
    "\n",
    "\n",
    "\n",
    "# ################################################################################################################\n",
    "# ## Set up graph state\n",
    "# class GraphState(MessagesState):\n",
    "#     question:         str\n",
    "#     documents:        list[Document]\n",
    "#     candidate_answer: str\n",
    "#     retries:          int\n",
    "#     web_fallback:     bool\n",
    "\n",
    "# class GraphConfig(TypedDict):\n",
    "#     max_retries: int\n",
    "# ################################################################################################################\n",
    "\n",
    "\n",
    "\n",
    "\n",
    "## Set up graph nodes\n",
    "### Document search\n",
    "MAX_RETRIES = 3\n",
    "VERBOSE     = True\n",
    "\n",
    "\n",
    "def document_search(state: GraphState):\n",
    "    \"\"\"\n",
    "    Retrieve documents\n",
    "\n",
    "    Args:\n",
    "        state (dict): The current graph state\n",
    "\n",
    "    Returns:\n",
    "        state (dict): New key added to state, documents, that contains retrieved documents\n",
    "    \"\"\"\n",
    "    if VERBOSE:\n",
    "        print(\"---RETRIEVE---\")\n",
    "        \n",
    "    question = str(convert_to_messages(state[\"messages\"])[-1].content)\n",
    "    # Retrieval\n",
    "    documents = get_docs(question, state.get(\"documents\", [])) # if docs exist we get them otherwise we'll pass in an empty list\n",
    "    question  = convert_to_messages(state[\"messages\"])[-1].content    \n",
    "    return {\"documents\": documents, \"question\": question, \"web_fallback\": True}\n",
    "\n",
    "\n",
    "\n",
    "\n",
    "## Generate answer\n",
    "RAG_PROMPT: ChatPromptTemplate = hub.pull(\"rlm/rag-prompt\")\n",
    "def generate(state: GraphState):\n",
    "    \"\"\"\n",
    "    Generate answer\n",
    "    Args:\n",
    "        state (dict): The current graph state\n",
    "    Returns:\n",
    "        state (dict): New key added to state, generation, that contains LLM generation\n",
    "    \"\"\"\n",
    "    if VERBOSE:\n",
    "        print(\"---GENERATE---\")\n",
    "    question  = state[\"question\"]\n",
    "    documents = state[\"documents\"]\n",
    "    retries   = state[\"retries\"] if state.get(\"retries\") is not None else -1\n",
    "\n",
    "    rag_chain  = RAG_PROMPT | llm | StrOutputParser()\n",
    "    generation = rag_chain.invoke({\"context\": documents, \"question\": question})\n",
    "    return {\"retries\": retries + 1, \"candidate_answer\": generation}\n",
    "# ye warning bhi deti hay: \n",
    "# \"\"\"\"\n",
    "# C:\\Users\\Ans\\Desktop\\code\\10_agentic_project\\.venv\\lib\\site-packages\\langsmith\\client.py:253: LangSmithMissingAPIKeyWarning: API key must be provided when using hosted LangSmith API\n",
    "#   warnings.warn(\n",
    "# \"\"\"\n",
    "# print(RAG_PROMPT)\n",
    "\n",
    "\n",
    "\n",
    "\n",
    "## Rewrite question\n",
    "QUERY_REWRITER_SYSTEM = (\n",
    "\"\"\"\n",
    "You a question re-writer that converts an input question to a better version that is optimized for vectorstore retrieval.\n",
    "Look at the input and try to reason about the underlying semantic intent / meaning.\n",
    "\"\"\"\n",
    ")\n",
    "QUERY_REWRITER_PROMPT = ChatPromptTemplate.from_messages(\n",
    "    [\n",
    "        (\"system\", QUERY_REWRITER_SYSTEM),\n",
    "        (\n",
    "            \"human\",\n",
    "            \"Here is the initial question: \\n\\n {question} \\n Formulate an improved question.\",\n",
    "        ),\n",
    "    ]\n",
    ")\n",
    "def transform_query(state: GraphState):\n",
    "    \"\"\"\n",
    "    Transform the query to produce a better question.\n",
    "    Args:\n",
    "        state (dict): The current graph state\n",
    "    Returns:\n",
    "        state (dict): Updates question key with a re-phrased question\n",
    "    \"\"\"\n",
    "    if VERBOSE:\n",
    "        print(\"---TRANSFORM QUERY---\")\n",
    "    question = state[\"question\"]\n",
    "    # Re-write question\n",
    "    query_rewriter  = QUERY_REWRITER_PROMPT | llm | StrOutputParser()\n",
    "    better_question = query_rewriter.invoke({\"question\": question})\n",
    "    return {\"question\": better_question}\n",
    "\n",
    "\n",
    "\n",
    "\n",
    "## Web search\n",
    "def web_search(state: GraphState):\n",
    "    if VERBOSE:\n",
    "        print(\"---RUNNING WEB SEARCH---\")\n",
    "    question  = state[\"question\"]\n",
    "    documents = state[\"documents\"]\n",
    "    search_results = tavily_search_tool.invoke(question)\n",
    "    search_content = \"\\n\".join([d[\"content\"] for d in search_results])\n",
    "    \n",
    "    documents.append(Document(page_content=search_content, metadata={\"source\": \"websearch\"})) # i hope document sahi format main hoon gay\n",
    "    return {\"documents\": documents, \"web_fallback\": False}\n",
    "\n",
    "\n",
    "\n",
    "\n",
    "\n",
    "## Finalize response\n",
    "def finalize_response(state: GraphState):\n",
    "    if VERBOSE:\n",
    "        print(\"---FINALIZING THE RESPONSE---\")\n",
    "\n",
    "    return {\"messages\": [AIMessage(content=state[\"candidate_answer\"])]}\n",
    "\n",
    "\n",
    "\n",
    "\n",
    "\n",
    "## Set up edges\n",
    "# Grade answer\n",
    "#     Check hallucinations\n",
    "#     Check answer relevance\n",
    "class GradeHallucinations(BaseModel):\n",
    "    \"\"\"Binary score for hallucination present in generation answer.\"\"\"\n",
    "\n",
    "    binary_score: str = Field(\n",
    "        description=\"Answer is grounded in the facts, 'yes' or 'no'\"\n",
    "    )\n",
    "\n",
    "\n",
    "HALLUCINATION_GRADER_SYSTEM = (\n",
    "\"\"\"\n",
    "You are a grader assessing whether an LLM generation is grounded in / supported by a set of retrieved facts.\n",
    "Give a binary score 'yes' or 'no', where 'yes' means that the answer is grounded in / supported by the set of facts.\n",
    "\n",
    "IF the generation includes code examples, make sure those examples are FULLY present in the set of facts, otherwise always return score 'no'.\n",
    "\"\"\"\n",
    ")\n",
    "\n",
    "HALLUCINATION_GRADER_PROMPT = ChatPromptTemplate.from_messages(\n",
    "    [\n",
    "        (\"system\", HALLUCINATION_GRADER_SYSTEM),\n",
    "        (\"human\", \"Set of facts: \\n\\n {documents} \\n\\n LLM generation: {generation}\"),\n",
    "    ]\n",
    ")\n",
    "\n",
    "\n",
    "class GradeAnswer(BaseModel):\n",
    "    \"\"\"Binary score to assess answer addresses question.\"\"\"\n",
    "\n",
    "    binary_score: str = Field(\n",
    "        description=\"Answer addresses the question, 'yes' or 'no'\"\n",
    "    )\n",
    "\n",
    "\n",
    "ANSWER_GRADER_SYSTEM = (\n",
    "\"\"\"\n",
    "You are a grader assessing whether an answer addresses / resolves a question.\n",
    "Give a binary score 'yes' or 'no', where 'yes' means that the answer resolves the question.\n",
    "\"\"\"\n",
    ")\n",
    "\n",
    "ANSWER_GRADER_PROMPT = ChatPromptTemplate.from_messages(\n",
    "    [\n",
    "        (\"system\", ANSWER_GRADER_SYSTEM),\n",
    "        (\"human\", \"User question: \\n\\n {question} \\n\\n LLM generation: {generation}\"),\n",
    "    ]\n",
    ")\n",
    "\n",
    "\n",
    "\n",
    "\n",
    "def grade_generation_v_documents_and_question(state: GraphState, config) -> Literal[\"generate\", \"transform_query\", \"web_search\", \"finalize_response\"]:\n",
    "    \"\"\"\n",
    "    Determines whether the generation is grounded in the document and answers question.\n",
    "\n",
    "    Args:\n",
    "        state (dict): The current graph state\n",
    "\n",
    "    Returns:\n",
    "        str: Decision for next node to call\n",
    "    \"\"\"\n",
    "    question     = state[\"question\"]\n",
    "    documents    = state[\"documents\"]\n",
    "    generation   = state[\"candidate_answer\"]\n",
    "    web_fallback = state[\"web_fallback\"]\n",
    "    retries      = state[\"retries\"] if state.get(\"retries\") is not None else -1\n",
    "    max_retries  = config.get(\"configurable\", {}).get(\"max_retries\", MAX_RETRIES)\n",
    "\n",
    "    # this means we've already gone through web fallback and can return to the user\n",
    "    if not web_fallback:\n",
    "        return \"finalize_response\"\n",
    "\n",
    "    if VERBOSE:\n",
    "        print(\"---CHECK HALLUCINATIONS---\")\n",
    "\n",
    "    hallucination_grader = HALLUCINATION_GRADER_PROMPT | llm.with_structured_output(GradeHallucinations)\n",
    "    hallucination_grade: GradeHallucinations = hallucination_grader.invoke(\n",
    "        {\"documents\": documents, \"generation\": generation}\n",
    "    )\n",
    "\n",
    "    # Check hallucination\n",
    "    if hallucination_grade.binary_score == \"no\":\n",
    "        if VERBOSE: print(\"---DECISION: GENERATION IS NOT GROUNDED IN DOCUMENTS, RE-TRY---\")\n",
    "        return \"generate\" if retries < max_retries else \"web_search\"\n",
    "\n",
    "    if VERBOSE:\n",
    "        print(\"---DECISION: GENERATION IS GROUNDED IN DOCUMENTS---\")\n",
    "        print(\"---GRADE GENERATION vs QUESTION---\")\n",
    "\n",
    "    # Check question-answering\n",
    "    answer_grader = ANSWER_GRADER_PROMPT | llm.with_structured_output(GradeAnswer)\n",
    "    answer_grade: GradeAnswer = answer_grader.invoke({\"question\": question, \"generation\": generation})\n",
    "    if answer_grade.binary_score == \"yes\":\n",
    "        if VERBOSE: print(\"---DECISION: GENERATION ADDRESSES QUESTION---\")\n",
    "        return \"finalize_response\"\n",
    "    else:\n",
    "        if VERBOSE: print(\"---DECISION: GENERATION DOES NOT ADDRESS QUESTION---\")\n",
    "        return \"transform_query\" if retries < max_retries else \"web_search\"\n",
    "\n",
    "\n",
    "\n",
    "\n",
    "\n",
    "## Assemble graph\n",
    "self_crag_builder = StateGraph(GraphState, config_schema=GraphConfig)\n",
    "\n",
    "# Define the nodes\n",
    "self_crag_builder.add_node(\"document_search\",   document_search)\n",
    "self_crag_builder.add_node(\"generate\",          generate)\n",
    "self_crag_builder.add_node(\"transform_query\",   transform_query)\n",
    "self_crag_builder.add_node(\"web_search\",        web_search)\n",
    "self_crag_builder.add_node(\"finalize_response\", finalize_response)\n",
    "\n",
    "# Build graph\n",
    "self_crag_builder.set_entry_point(\"document_search\")\n",
    "self_crag_builder.add_edge(\"document_search\",   \"generate\")\n",
    "self_crag_builder.add_edge(\"transform_query\",   \"document_search\")\n",
    "self_crag_builder.add_edge(\"web_search\",        \"generate\")\n",
    "self_crag_builder.add_edge(\"finalize_response\", END)\n",
    "\n",
    "self_crag_builder.add_conditional_edges(\n",
    "    \"generate\",\n",
    "    grade_generation_v_documents_and_question\n",
    ")\n",
    "\n",
    "# Compile\n",
    "self_crag = self_crag_builder.compile()\n",
    "\n",
    "\n",
    "\n",
    "\n",
    "## Visualize graph\n",
    "from IPython.display import Image, display\n",
    "display(Image(self_crag.get_graph().draw_mermaid_png()))\n",
    "\n",
    "\n",
    "\n",
    "\n",
    "# # Run the graph!\n",
    "# ## Streaming\n",
    "# VERBOSE = True\n",
    "# # here it wont fall back to web search, the naswer is present in the chapter\n",
    "# inputs = {\"messages\": [(\"human\", \"explain uncertainty priciple in quantum mechanics\")]}\n",
    "# for output in self_crag.stream(inputs):\n",
    "#     print(\"\\n---\\n\")\n",
    "# #output\n",
    "\n",
    "\n",
    "\n",
    "# # here it'll fall back to web search after retrying for 3 to 4 times\n",
    "# VERBOSE = False\n",
    "# inputs = {\"messages\": [(\"human\", \"explain diffraction in crystals\")]}\n",
    "# for output in self_crag.stream(inputs):\n",
    "#     print(output)\n",
    "#     print(\"\\n---\\n\")"
   ]
  },
  {
   "cell_type": "code",
   "execution_count": 20,
   "id": "3f30771d-4f78-4fd3-8cd2-75d2fcbf2301",
   "metadata": {},
   "outputs": [
    {
     "name": "stdout",
     "output_type": "stream",
     "text": [
      "---RETRIEVE---\n",
      "\n",
      "---\n",
      "\n",
      "---GENERATE---\n",
      "---CHECK HALLUCINATIONS---\n",
      "---DECISION: GENERATION IS GROUNDED IN DOCUMENTS---\n",
      "---GRADE GENERATION vs QUESTION---\n",
      "---DECISION: GENERATION ADDRESSES QUESTION---\n",
      "\n",
      "---\n",
      "\n",
      "---FINALIZING THE RESPONSE---\n",
      "\n",
      "---\n",
      "\n"
     ]
    }
   ],
   "source": [
    "VERBOSE = True\n",
    "inputs = {\"messages\": [(\"human\", \"explain uncertainty priciple in quantum mechanics\")]}\n",
    "for output in self_crag.stream(inputs):\n",
    "    print(\"\\n---\\n\")\n",
    "    "
   ]
  },
  {
   "cell_type": "code",
   "execution_count": 21,
   "id": "9d0f1726-0689-4057-bdd8-e8803a095918",
   "metadata": {},
   "outputs": [
    {
     "data": {
      "text/plain": [
       "{'finalize_response': {'messages': [AIMessage(content='The uncertainty principle in quantum mechanics states that it is impossible to simultaneously know both the exact position and momentum of a particle, such as an electron. This is expressed mathematically as ∆x ≥ ℏ/2∆p, meaning increasing precision in one measurement decreases the accuracy of the other. It reflects a fundamental limit of nature, not just experimental difficulty, and is essential for the consistency of quantum theory.', additional_kwargs={}, response_metadata={}, id='f563953d-b8cb-47a5-b732-0388eddfa52a')]}}"
      ]
     },
     "execution_count": 21,
     "metadata": {},
     "output_type": "execute_result"
    }
   ],
   "source": [
    "output"
   ]
  },
  {
   "cell_type": "code",
   "execution_count": 7,
   "id": "e4635e1a-f15e-472b-9bba-15a746bd5ce4",
   "metadata": {
    "scrolled": true
   },
   "outputs": [
    {
     "name": "stdout",
     "output_type": "stream",
     "text": [
      "{'document_search': {'documents': [Document(metadata={'subject': 'Physics', 'book_name': 'The Feynman Lectures on Physics - Vol 3 - Quantum Mechanics', 'word_count': 501, 'author_name': 'Richard Feynman', 'page_number': 40, 'sub_subject': 'Quantum Mechanics'}, page_content='by without being seen. There did not happen to be a photon around at the time\\nthe electron went through.\\nThis is all a little discouraging. If it is true that whenever we “see” the electron\\nwe see the same-sized ﬂash, then those electrons we see are always the disturbed\\nones. Let us try the experiment with a dim light anyway. Now whenever we\\nhear a click in the detector we will keep a count in three columns: in Column (1)\\nthose electrons seen by hole 1, in Column (2) those electrons seen by hole 2,\\nand in Column (3) those electrons not seen at all. When we work up our data\\n(computing the probabilities) we ﬁnd these results: Those “seen by hole 1” have\\na distribution like P ′\\n1; those “seen by hole 2” have a distribution like P ′\\n2 (so that\\nthose “seen by either hole 1 or 2” have a distribution like P ′\\n12); and those “not\\nseen at all” have a “wavy” distribution just like P12 of Fig. 1-3! If the electrons\\nare not seen, we have interference!\\nThat is understandable. When we do not see the electron, no photon disturbs\\nit, and when we do see it, a photon has disturbed it. There is always the same\\namount of disturbance because the light photons all produce the same-sized\\neﬀects and the eﬀect of the photons being scattered is enough to smear out any\\ninterference eﬀect.\\nIs there not some way we can see the electrons without disturbing them?\\nWe learned in an earlier chapter that the momentum carried by a “photon” is\\ninversely proportional to its wavelength (p = h/λ). Certainly the jolt given\\nto the electron when the photon is scattered toward our eye depends on the\\nmomentum that photon carries. Aha! If we want to disturb the electrons only\\nslightly we should not have lowered the intensity of the light, we should have\\nlowered its frequency (the same as increasing its wavelength). Let us use light of\\na redder color. We could even use infrared light, or radiowaves (like radar), and\\n“see” where the electron went with the help of some equipment that can “see”\\nlight of these longer wavelengths. If we use “gentler” light perhaps we can avoid\\ndisturbing the electrons so much.\\nLet us try the experiment with longer waves. We shall keep repeating our\\nexperiment, each time with light of a longer wavelength. At ﬁrst, nothing seems to\\nchange. The results are the same. Then a terrible thing happens. You remember\\nthat when we discussed the microscope we pointed out that, due to the wave\\nnature of the light, there is a limitation on how close two spots can be and still\\nbe seen as two separate spots. This distance is of the order of the wavelength of\\nlight. So now, when we make the wavelength longer than the distance between\\nour holes, we see a big fuzzy ﬂash when the light is scattered by the electrons.\\n1-13'), Document(metadata={'subject': 'Physics', 'book_name': 'The Feynman Lectures on Physics - Vol 3 - Quantum Mechanics', 'word_count': 514, 'author_name': 'Richard Feynman', 'page_number': 32, 'sub_subject': 'Quantum Mechanics'}, page_content='makes circular waves. To the right of the source we have again a wall with two\\nholes, and beyond that is a second wall, which, to keep things simple, is an\\n“absorber,” so that there is no reﬂection of the waves that arrive there. This can\\nbe done by building a gradual sand “beach.” In front of the beach we place a\\ndetector which can be moved back and forth in the x-direction, as before. The\\ndetector is now a device which measures the “intensity” of the wave motion. You\\ncan imagine a gadget which measures the height of the wave motion, but whose\\nscale is calibrated in proportion to the square of the actual height, so that the\\nreading is proportional to the intensity of the wave. Our detector reads, then, in\\nproportion to the energy being carried by the wave—or rather, the rate at which\\nenergy is carried to the detector.\\nWith our wave apparatus, the ﬁrst thing to notice is that the intensity can have\\nany size. If the source just moves a very small amount, then there is just a little bit\\nof wave motion at the detector. When there is more motion at the source, there\\nis more intensity at the detector. The intensity of the wave can have any value\\nat all. We would not say that there was any “lumpiness” in the wave intensity.\\nNow let us measure the wave intensity for various values of x (keeping the\\nwave source operating always in the same way). We get the interesting-looking\\ncurve marked I12 in part (c) of the ﬁgure.\\nWe have already worked out how such patterns can come about when we\\nstudied the interference of electric waves in Volume I. In this case we would\\nobserve that the original wave is diﬀracted at the holes, and new circular waves\\nspread out from each hole. If we cover one hole at a time and measure the\\nintensity distribution at the absorber we ﬁnd the rather simple intensity curves\\nshown in part (b) of the ﬁgure. I1 is the intensity of the wave from hole 1 (which\\nwe ﬁnd by measuring when hole 2 is blocked oﬀ) and I2 is the intensity of the\\nwave from hole 2 (seen when hole 1 is blocked).\\nThe intensity I12 observed when both holes are open is certainly not the sum\\nof I1 and I2. We say that there is “interference” of the two waves. At some places\\n(where the curve I12 has its maxima) the waves are “in phase” and the wave\\npeaks add together to give a large amplitude and, therefore, a large intensity.\\nWe say that the two waves are “interfering constructively” at such places. There\\nwill be such constructive interference wherever the distance from the detector to\\none hole is a whole number of wavelengths larger (or shorter) than the distance\\nfrom the detector to the other hole.\\nAt those places where the two waves arrive at the detector with a phase\\ndiﬀerence of π (where they are “out of phase”) the resulting wave motion at\\n1-5'), Document(metadata={'subject': 'Physics', 'book_name': 'The Feynman Lectures on Physics - Vol 3 - Quantum Mechanics', 'word_count': 528, 'author_name': 'Richard Feynman', 'page_number': 39, 'sub_subject': 'Quantum Mechanics'}, page_content='expect them to come through. Whether the holes are closed or open, those which\\nwe see come through hole 1 are distributed in the same way whether hole 2 is\\nopen or closed.\\nBut wait! What do we have now for the total probability, the probability\\nthat an electron will arrive at the detector by any route? We already have that\\ninformation. We just pretend that we never looked at the light ﬂashes, and we\\nlump together the detector clicks which we have separated into the two columns.\\nWe must just add the numbers. For the probability that an electron will arrive\\nat the backstop by passing through either hole, we do ﬁnd P ′\\n12 = P ′\\n1 + P ′\\n2. That\\nis, although we succeeded in watching which hole our electrons come through,\\nwe no longer get the old interference curve P12, but a new one, P ′\\n12, showing no\\ninterference! If we turn out the light P12 is restored.\\nWe must conclude that when we look at the electrons the distribution of them\\non the screen is diﬀerent than when we do not look. Perhaps it is turning on\\nour light source that disturbs things? It must be that the electrons are very\\ndelicate, and the light, when it scatters oﬀthe electrons, gives them a jolt that\\nchanges their motion. We know that the electric ﬁeld of the light acting on a\\ncharge will exert a force on it. So perhaps we should expect the motion to be\\nchanged. Anyway, the light exerts a big inﬂuence on the electrons. By trying to\\n“watch” the electrons we have changed their motions. That is, the jolt given to\\nthe electron when the photon is scattered by it is such as to change the electron’s\\nmotion enough so that if it might have gone to where P12 was at a maximum it\\nwill instead land where P12 was a minimum; that is why we no longer see the\\nwavy interference eﬀects.\\nYou may be thinking: “Don’t use such a bright source! Turn the brightness\\ndown! The light waves will then be weaker and will not disturb the electrons so\\nmuch. Surely, by making the light dimmer and dimmer, eventually the wave will\\nbe weak enough that it will have a negligible eﬀect.” O.K. Let’s try it. The ﬁrst\\nthing we observe is that the ﬂashes of light scattered from the electrons as they\\npass by does not get weaker. It is always the same-sized ﬂash. The only thing\\nthat happens as the light is made dimmer is that sometimes we hear a “click”\\nfrom the detector but see no ﬂash at all. The electron has gone by without being\\n“seen.” What we are observing is that light also acts like electrons, we knew that\\nit was “wavy,” but now we ﬁnd that it is also “lumpy.” It always arrives—or is\\nscattered—in lumps that we call “photons.” As we turn down the intensity of\\nthe light source we do not change the size of the photons, only the rate at which\\nthey are emitted. That explains why, when our source is dim, some electrons get\\n1-12'), Document(metadata={'subject': 'Physics', 'book_name': 'The Feynman Lectures on Physics - Vol 3 - Quantum Mechanics', 'word_count': 255, 'author_name': 'Richard Feynman', 'page_number': 42, 'sub_subject': 'Quantum Mechanics'}, page_content='deductions from the statement, he will make errors in the analysis. This is the\\nlogical tightrope on which we must walk if we wish to describe nature successfully.\\nIf the motion of all matter—as well as electrons—must be described in terms\\nof waves, what about the bullets in our ﬁrst experiment? Why didn’t we see an\\ninterference pattern there? It turns out that for the bullets the wavelengths were\\nso tiny that the interference patterns became very ﬁne. So ﬁne, in fact, that with\\nany detector of ﬁnite size one could not distinguish the separate maxima and\\nminima. What we saw was only a kind of average, which is the classical curve.\\nIn Fig. 1-5 we have tried to indicate schematically what happens with large-scale\\nobjects. Part (a) of the ﬁgure shows the probability distribution one might\\npredict for bullets, using quantum mechanics. The rapid wiggles are supposed to\\nrepresent the interference pattern one gets for waves of very short wavelength.\\nAny physical detector, however, straddles several wiggles of the probability curve,\\nso that the measurements show the smooth curve drawn in part (b) of the ﬁgure.\\n(a)\\nP12\\n(b)\\nP12 (smoothed)\\nx\\nFig. 1-5. Interference pattern with bullets: (a) actual (schematic),\\n(b) observed.\\n1-7 First principles of quantum mechanics\\nWe will now write a summary of the main conclusions of our experiments. We\\nwill, however, put the results in a form which makes them true for a general class\\nof such experiments. We can write our summary more simply if we ﬁrst deﬁne\\n1-15'), Document(metadata={'subject': 'Physics', 'book_name': 'The Feynman Lectures on Physics - Vol 3 - Quantum Mechanics', 'word_count': 385, 'author_name': 'Richard Feynman', 'page_number': 33, 'sub_subject': 'Quantum Mechanics'}, page_content='the detector will be the diﬀerence of the two amplitudes. The waves “interfere\\ndestructively,” and we get a low value for the wave intensity. We expect such low\\nvalues wherever the distance between hole 1 and the detector is diﬀerent from the\\ndistance between hole 2 and the detector by an odd number of half-wavelengths.\\nThe low values of I12 in Fig. 1-2 correspond to the places where the two waves\\ninterfere destructively.\\nYou will remember that the quantitative relationship between I1, I2, and I12\\ncan be expressed in the following way: The instantaneous height of the water\\nwave at the detector for the wave from hole 1 can be written as (the real part\\nof) h1eiωt, where the “amplitude” h1 is, in general, a complex number. The\\nintensity is proportional to the mean squared height or, when we use the complex\\nnumbers, to the absolute value squared |h1|2. Similarly, for hole 2 the height\\nis h2eiωt and the intensity is proportional to |h2|2. When both holes are open,\\nthe wave heights add to give the height (h1 + h2)eiωt and the intensity |h1 + h2|2.\\nOmitting the constant of proportionality for our present purposes, the proper\\nrelations for interfering waves are\\nI1 = |h1|2,\\nI2 = |h2|2,\\nI12 = |h1 + h2|2.\\n(1.2)\\nYou will notice that the result is quite diﬀerent from that obtained with\\nbullets (Eq. 1.1). If we expand |h1 + h2|2 we see that\\n|h1 + h2|2 = |h1|2 + |h2|2 + 2|h1||h2| cos δ,\\n(1.3)\\nwhere δ is the phase diﬀerence between h1 and h2. In terms of the intensities,\\nwe could write\\nI12 = I1 + I2 + 2\\np\\nI1I2 cos δ.\\n(1.4)\\nThe last term in (1.4) is the “interference term.” So much for water waves. The\\nintensity can have any value, and it shows interference.\\n1-4 An experiment with electrons\\nNow we imagine a similar experiment with electrons. It is shown diagram-\\nmatically in Fig. 1-3. We make an electron gun which consists of a tungsten wire\\nheated by an electric current and surrounded by a metal box with a hole in it. If\\nthe wire is at a negative voltage with respect to the box, electrons emitted by\\nthe wire will be accelerated toward the walls and some will pass through the hole.\\n1-6'), Document(metadata={'subject': 'Physics', 'book_name': 'The Feynman Lectures on Physics - Vol 3 - Quantum Mechanics', 'word_count': 484, 'author_name': 'Richard Feynman', 'page_number': 37, 'sub_subject': 'Quantum Mechanics'}, page_content='same as that we had for the water waves! (It is hard to see how one could get\\nsuch a simple result from a complicated game of electrons going back and forth\\nthrough the plate on some strange trajectory.)\\nWe conclude the following: The electrons arrive in lumps, like particles, and\\nthe probability of arrival of these lumps is distributed like the distribution of\\nintensity of a wave. It is in this sense that an electron behaves “sometimes like a\\nparticle and sometimes like a wave.”\\nIncidentally, when we were dealing with classical waves we deﬁned the intensity\\nas the mean over time of the square of the wave amplitude, and we used complex\\nnumbers as a mathematical trick to simplify the analysis.\\nBut in quantum\\nmechanics it turns out that the amplitudes must be represented by complex\\nnumbers. The real parts alone will not do. That is a technical point, for the\\nmoment, because the formulas look just the same.\\nSince the probability of arrival through both holes is given so simply, although\\nit is not equal to (P1 + P2), that is really all there is to say. But there are a\\nlarge number of subtleties involved in the fact that nature does work this way.\\nWe would like to illustrate some of these subtleties for you now. First, since the\\nnumber that arrives at a particular point is not equal to the number that arrives\\nthrough 1 plus the number that arrives through 2, as we would have concluded\\nfrom Proposition A, undoubtedly we should conclude that Proposition A is false.\\nIt is not true that the electrons go either through hole 1 or hole 2. But that\\nconclusion can be tested by another experiment.\\n1-6 Watching the electrons\\nWe shall now try the following experiment. To our electron apparatus we\\nadd a very strong light source, placed behind the wall and between the two holes,\\nas shown in Fig. 1-4. We know that electric charges scatter light. So when an\\nelectron passes, however it does pass, on its way to the detector, it will scatter\\nsome light to our eye, and we can see where the electron goes. If, for instance, an\\nelectron were to take the path via hole 2 that is sketched in Fig. 1-4, we should\\nsee a ﬂash of light coming from the vicinity of the place marked A in the ﬁgure. If\\nan electron passes through hole 1, we would expect to see a ﬂash from the vicinity\\nof the upper hole. If it should happen that we get light from both places at the\\nsame time, because the electron divides in half . . . Let us just do the experiment!\\nHere is what we see: every time that we hear a “click” from our electron\\ndetector (at the backstop), we also see a ﬂash of light either near hole 1 or near\\n1-10'), Document(metadata={'subject': 'Physics', 'book_name': 'The Feynman Lectures on Physics - Vol 3 - Quantum Mechanics', 'word_count': 521, 'author_name': 'Richard Feynman', 'page_number': 41, 'sub_subject': 'Quantum Mechanics'}, page_content='We can no longer tell which hole the electron went through! We just know it went\\nsomewhere! And it is just with light of this color that we ﬁnd that the jolts given\\nto the electron are small enough so that P ′\\n12 begins to look like P12—that we\\nbegin to get some interference eﬀect. And it is only for wavelengths much longer\\nthan the separation of the two holes (when we have no chance at all of telling\\nwhere the electron went) that the disturbance due to the light gets suﬃciently\\nsmall that we again get the curve P12 shown in Fig. 1-3.\\nIn our experiment we ﬁnd that it is impossible to arrange the light in such\\na way that one can tell which hole the electron went through, and at the same\\ntime not disturb the pattern. It was suggested by Heisenberg that the then\\nnew laws of nature could only be consistent if there were some basic limitation\\non our experimental capabilities not previously recognized. He proposed, as a\\ngeneral principle, his uncertainty principle, which we can state in terms of our\\nexperiment as follows: “It is impossible to design an apparatus to determine\\nwhich hole the electron passes through, that will not at the same time disturb the\\nelectrons enough to destroy the interference pattern.” If an apparatus is capable\\nof determining which hole the electron goes through, it cannot be so delicate\\nthat it does not disturb the pattern in an essential way. No one has ever found\\n(or even thought of) a way around the uncertainty principle. So we must assume\\nthat it describes a basic characteristic of nature.\\nThe complete theory of quantum mechanics which we now use to describe\\natoms and, in fact, all matter, depends on the correctness of the uncertainty\\nprinciple. Since quantum mechanics is such a successful theory, our belief in\\nthe uncertainty principle is reinforced. But if a way to “beat” the uncertainty\\nprinciple were ever discovered, quantum mechanics would give inconsistent results\\nand would have to be discarded as a valid theory of nature.\\n“Well,” you say, “what about Proposition A? Is it true, or is it not true,\\nthat the electron either goes through hole 1 or it goes through hole 2?” The only\\nanswer that can be given is that we have found from experiment that there is\\na certain special way that we have to think in order that we do not get into\\ninconsistencies. What we must say (to avoid making wrong predictions) is the\\nfollowing. If one looks at the holes or, more accurately, if one has a piece of\\napparatus which is capable of determining whether the electrons go through\\nhole 1 or hole 2, then one can say that it goes either through hole 1 or hole 2. But,\\nwhen one does not try to tell which way the electron goes, when there is nothing\\nin the experiment to disturb the electrons, then one may not say that an electron\\ngoes either through hole 1 or hole 2. If one does say that, and starts to make any\\n1-14'), Document(metadata={'subject': 'Physics', 'book_name': 'The Feynman Lectures on Physics - Vol 3 - Quantum Mechanics', 'word_count': 278, 'author_name': 'Richard Feynman', 'page_number': 31, 'sub_subject': 'Quantum Mechanics'}, page_content='small if x is very large. You may wonder, however, why P12 has its maximum\\nvalue at x = 0. We can understand this fact if we do our experiment again after\\ncovering up hole 2, and once more while covering up hole 1. When hole 2 is\\ncovered, bullets can pass only through hole 1, and we get the curve marked P1 in\\npart (b) of the ﬁgure. As you would expect, the maximum of P1 occurs at the\\nvalue of x which is on a straight line with the gun and hole 1. When hole 1 is\\nclosed, we get the symmetric curve P2 drawn in the ﬁgure. P2 is the probability\\ndistribution for bullets that pass through hole 2. Comparing parts (b) and (c) of\\nFig. 1-1, we ﬁnd the important result that\\nP12 = P1 + P2.\\n(1.1)\\nThe probabilities just add together. The eﬀect with both holes open is the sum\\nof the eﬀects with each hole open alone. We shall call this result an observation\\nof “no interference,” for a reason that you will see later. So much for bullets.\\nThey come in lumps, and their probability of arrival shows no interference.\\n1-3 An experiment with waves\\nNow we wish to consider an experiment with water waves. The apparatus\\nis shown diagrammatically in Fig. 1-2. We have a shallow trough of water. A\\nsmall object labeled the “wave source” is jiggled up and down by a motor and\\nWAVE\\nSOURCE\\n(a)\\nWALL\\n1\\n2\\nDETECTOR\\nABSORBER\\n(b)\\nx\\nI1\\nI2\\nI1 = |h1|2\\nI2 = |h2|2\\n(c)\\nx\\nI12\\nI12 = |h1 + h2|2\\nFig. 1-2. Interference experiment with water waves.\\n1-4'), Document(metadata={'subject': 'Physics', 'book_name': 'The Feynman Lectures on Physics - Vol 3 - Quantum Mechanics', 'word_count': 297, 'author_name': 'Richard Feynman', 'page_number': 29, 'sub_subject': 'Quantum Mechanics'}, page_content='Because atomic behavior is so unlike ordinary experience, it is very diﬃcult\\nto get used to, and it appears peculiar and mysterious to everyone—both to the\\nnovice and to the experienced physicist. Even the experts do not understand it\\nthe way they would like to, and it is perfectly reasonable that they should not,\\nbecause all of direct, human experience and of human intuition applies to large\\nobjects. We know how large objects will act, but things on a small scale just\\ndo not act that way. So we have to learn about them in a sort of abstract or\\nimaginative fashion and not by connection with our direct experience.\\nIn this chapter we shall tackle immediately the basic element of the mysterious\\nbehavior in its most strange form. We choose to examine a phenomenon which is\\nimpossible, absolutely impossible, to explain in any classical way, and which has\\nin it the heart of quantum mechanics. In reality, it contains the only mystery.\\nWe cannot make the mystery go away by “explaining” how it works. We will just\\ntell you how it works. In telling you how it works we will have told you about\\nthe basic peculiarities of all quantum mechanics.\\n1-2 An experiment with bullets\\nTo try to understand the quantum behavior of electrons, we shall compare\\nand contrast their behavior, in a particular experimental setup, with the more\\nfamiliar behavior of particles like bullets, and with the behavior of waves like\\nwater waves. We consider ﬁrst the behavior of bullets in the experimental setup\\nshown diagrammatically in Fig. 1-1. We have a machine gun that shoots a stream\\nGUN\\n(a)\\nWALL\\n1\\n2\\nx\\nMOVABLE\\nDETECTOR\\nBACKSTOP\\n(b)\\nP1\\nP2\\n(c)\\nP12\\nP12 = P1 + P2\\nFig. 1-1. Interference experiment with bullets.\\n1-2'), Document(metadata={'subject': 'Physics', 'book_name': 'The Feynman Lectures on Physics - Vol 3 - Quantum Mechanics', 'word_count': 304, 'author_name': 'Richard Feynman', 'page_number': 46, 'sub_subject': 'Quantum Mechanics'}, page_content='Now in order to do this it is necessary to know what the momentum of the\\nscreen is, before the electron goes through. So when we measure the momentum\\nafter the electron goes by, we can ﬁgure out how much the plate’s momentum has\\nchanged. But remember, according to the uncertainty principle we cannot at the\\nsame time know the position of the plate with an arbitrary accuracy. But if we do\\nnot know exactly where the plate is, we cannot say precisely where the two holes\\nare. They will be in a diﬀerent place for every electron that goes through. This\\nmeans that the center of our interference pattern will have a diﬀerent location for\\neach electron. The wiggles of the interference pattern will be smeared out. We\\nshall show quantitatively in the next chapter that if we determine the momentum\\nof the plate suﬃciently accurately to determine from the recoil measurement\\nwhich hole was used, then the uncertainty in the x-position of the plate will,\\naccording to the uncertainty principle, be enough to shift the pattern observed at\\nthe detector up and down in the x-direction about the distance from a maximum\\nto its nearest minimum. Such a random shift is just enough to smear out the\\npattern so that no interference is observed.\\nThe uncertainty principle “protects” quantum mechanics. Heisenberg rec-\\nognized that if it were possible to measure the momentum and the position\\nsimultaneously with a greater accuracy, the quantum mechanics would collapse.\\nSo he proposed that it must be impossible. Then people sat down and tried to\\nﬁgure out ways of doing it, and nobody could ﬁgure out a way to measure the\\nposition and the momentum of anything—a screen, an electron, a billiard ball,\\nanything—with any greater accuracy. Quantum mechanics maintains its perilous\\nbut still correct existence.\\n1-19')], 'question': 'explain diffraction in crystals', 'web_fallback': True}}\n",
      "\n",
      "---\n",
      "\n",
      "{'generate': {'retries': 0, 'candidate_answer': \"Diffraction in crystals occurs when waves, such as X-rays or electrons, encounter the regular, repeating atomic structure of a crystal, causing them to bend and interfere. This interference produces specific patterns that can be observed and used to determine the crystal's atomic arrangement. It is a wave phenomenon that reveals the internal structure of crystals through the resulting diffraction pattern.\"}}\n",
      "\n",
      "---\n",
      "\n",
      "{'generate': {'retries': 1, 'candidate_answer': \"Diffraction in crystals occurs when waves, such as X-rays or electrons, encounter the regular, repeating atomic structure of a crystal, causing them to bend and interfere. This interference produces specific patterns that can be observed and analyzed to determine the crystal's atomic arrangement. It is a wave phenomenon that reveals the internal structure of the crystal through constructive and destructive interference.\"}}\n",
      "\n",
      "---\n",
      "\n",
      "{'generate': {'retries': 2, 'candidate_answer': \"Diffraction in crystals occurs when waves, such as X-rays or electrons, encounter the regular, repeating atomic structure of a crystal, causing them to bend and interfere. This interference produces specific patterns that can be observed and analyzed to determine the crystal's atomic arrangement. It is a wave phenomenon that reveals the internal structure of the crystal through constructive and destructive interference.\"}}\n",
      "\n",
      "---\n",
      "\n",
      "{'generate': {'retries': 3, 'candidate_answer': \"Diffraction in crystals occurs when waves, such as X-rays or electrons, encounter the regular, repeating atomic structure of the crystal lattice, causing the waves to bend and interfere. This interference produces specific patterns of constructive and destructive interference, known as diffraction patterns, which reveal the crystal's internal structure. These patterns are fundamental in techniques like X-ray crystallography to determine the arrangement of atoms within a crystal.\"}}\n",
      "\n",
      "---\n",
      "\n",
      "{'web_search': {'documents': [Document(metadata={'subject': 'Physics', 'book_name': 'The Feynman Lectures on Physics - Vol 3 - Quantum Mechanics', 'word_count': 501, 'author_name': 'Richard Feynman', 'page_number': 40, 'sub_subject': 'Quantum Mechanics'}, page_content='by without being seen. There did not happen to be a photon around at the time\\nthe electron went through.\\nThis is all a little discouraging. If it is true that whenever we “see” the electron\\nwe see the same-sized ﬂash, then those electrons we see are always the disturbed\\nones. Let us try the experiment with a dim light anyway. Now whenever we\\nhear a click in the detector we will keep a count in three columns: in Column (1)\\nthose electrons seen by hole 1, in Column (2) those electrons seen by hole 2,\\nand in Column (3) those electrons not seen at all. When we work up our data\\n(computing the probabilities) we ﬁnd these results: Those “seen by hole 1” have\\na distribution like P ′\\n1; those “seen by hole 2” have a distribution like P ′\\n2 (so that\\nthose “seen by either hole 1 or 2” have a distribution like P ′\\n12); and those “not\\nseen at all” have a “wavy” distribution just like P12 of Fig. 1-3! If the electrons\\nare not seen, we have interference!\\nThat is understandable. When we do not see the electron, no photon disturbs\\nit, and when we do see it, a photon has disturbed it. There is always the same\\namount of disturbance because the light photons all produce the same-sized\\neﬀects and the eﬀect of the photons being scattered is enough to smear out any\\ninterference eﬀect.\\nIs there not some way we can see the electrons without disturbing them?\\nWe learned in an earlier chapter that the momentum carried by a “photon” is\\ninversely proportional to its wavelength (p = h/λ). Certainly the jolt given\\nto the electron when the photon is scattered toward our eye depends on the\\nmomentum that photon carries. Aha! If we want to disturb the electrons only\\nslightly we should not have lowered the intensity of the light, we should have\\nlowered its frequency (the same as increasing its wavelength). Let us use light of\\na redder color. We could even use infrared light, or radiowaves (like radar), and\\n“see” where the electron went with the help of some equipment that can “see”\\nlight of these longer wavelengths. If we use “gentler” light perhaps we can avoid\\ndisturbing the electrons so much.\\nLet us try the experiment with longer waves. We shall keep repeating our\\nexperiment, each time with light of a longer wavelength. At ﬁrst, nothing seems to\\nchange. The results are the same. Then a terrible thing happens. You remember\\nthat when we discussed the microscope we pointed out that, due to the wave\\nnature of the light, there is a limitation on how close two spots can be and still\\nbe seen as two separate spots. This distance is of the order of the wavelength of\\nlight. So now, when we make the wavelength longer than the distance between\\nour holes, we see a big fuzzy ﬂash when the light is scattered by the electrons.\\n1-13'), Document(metadata={'subject': 'Physics', 'book_name': 'The Feynman Lectures on Physics - Vol 3 - Quantum Mechanics', 'word_count': 514, 'author_name': 'Richard Feynman', 'page_number': 32, 'sub_subject': 'Quantum Mechanics'}, page_content='makes circular waves. To the right of the source we have again a wall with two\\nholes, and beyond that is a second wall, which, to keep things simple, is an\\n“absorber,” so that there is no reﬂection of the waves that arrive there. This can\\nbe done by building a gradual sand “beach.” In front of the beach we place a\\ndetector which can be moved back and forth in the x-direction, as before. The\\ndetector is now a device which measures the “intensity” of the wave motion. You\\ncan imagine a gadget which measures the height of the wave motion, but whose\\nscale is calibrated in proportion to the square of the actual height, so that the\\nreading is proportional to the intensity of the wave. Our detector reads, then, in\\nproportion to the energy being carried by the wave—or rather, the rate at which\\nenergy is carried to the detector.\\nWith our wave apparatus, the ﬁrst thing to notice is that the intensity can have\\nany size. If the source just moves a very small amount, then there is just a little bit\\nof wave motion at the detector. When there is more motion at the source, there\\nis more intensity at the detector. The intensity of the wave can have any value\\nat all. We would not say that there was any “lumpiness” in the wave intensity.\\nNow let us measure the wave intensity for various values of x (keeping the\\nwave source operating always in the same way). We get the interesting-looking\\ncurve marked I12 in part (c) of the ﬁgure.\\nWe have already worked out how such patterns can come about when we\\nstudied the interference of electric waves in Volume I. In this case we would\\nobserve that the original wave is diﬀracted at the holes, and new circular waves\\nspread out from each hole. If we cover one hole at a time and measure the\\nintensity distribution at the absorber we ﬁnd the rather simple intensity curves\\nshown in part (b) of the ﬁgure. I1 is the intensity of the wave from hole 1 (which\\nwe ﬁnd by measuring when hole 2 is blocked oﬀ) and I2 is the intensity of the\\nwave from hole 2 (seen when hole 1 is blocked).\\nThe intensity I12 observed when both holes are open is certainly not the sum\\nof I1 and I2. We say that there is “interference” of the two waves. At some places\\n(where the curve I12 has its maxima) the waves are “in phase” and the wave\\npeaks add together to give a large amplitude and, therefore, a large intensity.\\nWe say that the two waves are “interfering constructively” at such places. There\\nwill be such constructive interference wherever the distance from the detector to\\none hole is a whole number of wavelengths larger (or shorter) than the distance\\nfrom the detector to the other hole.\\nAt those places where the two waves arrive at the detector with a phase\\ndiﬀerence of π (where they are “out of phase”) the resulting wave motion at\\n1-5'), Document(metadata={'subject': 'Physics', 'book_name': 'The Feynman Lectures on Physics - Vol 3 - Quantum Mechanics', 'word_count': 528, 'author_name': 'Richard Feynman', 'page_number': 39, 'sub_subject': 'Quantum Mechanics'}, page_content='expect them to come through. Whether the holes are closed or open, those which\\nwe see come through hole 1 are distributed in the same way whether hole 2 is\\nopen or closed.\\nBut wait! What do we have now for the total probability, the probability\\nthat an electron will arrive at the detector by any route? We already have that\\ninformation. We just pretend that we never looked at the light ﬂashes, and we\\nlump together the detector clicks which we have separated into the two columns.\\nWe must just add the numbers. For the probability that an electron will arrive\\nat the backstop by passing through either hole, we do ﬁnd P ′\\n12 = P ′\\n1 + P ′\\n2. That\\nis, although we succeeded in watching which hole our electrons come through,\\nwe no longer get the old interference curve P12, but a new one, P ′\\n12, showing no\\ninterference! If we turn out the light P12 is restored.\\nWe must conclude that when we look at the electrons the distribution of them\\non the screen is diﬀerent than when we do not look. Perhaps it is turning on\\nour light source that disturbs things? It must be that the electrons are very\\ndelicate, and the light, when it scatters oﬀthe electrons, gives them a jolt that\\nchanges their motion. We know that the electric ﬁeld of the light acting on a\\ncharge will exert a force on it. So perhaps we should expect the motion to be\\nchanged. Anyway, the light exerts a big inﬂuence on the electrons. By trying to\\n“watch” the electrons we have changed their motions. That is, the jolt given to\\nthe electron when the photon is scattered by it is such as to change the electron’s\\nmotion enough so that if it might have gone to where P12 was at a maximum it\\nwill instead land where P12 was a minimum; that is why we no longer see the\\nwavy interference eﬀects.\\nYou may be thinking: “Don’t use such a bright source! Turn the brightness\\ndown! The light waves will then be weaker and will not disturb the electrons so\\nmuch. Surely, by making the light dimmer and dimmer, eventually the wave will\\nbe weak enough that it will have a negligible eﬀect.” O.K. Let’s try it. The ﬁrst\\nthing we observe is that the ﬂashes of light scattered from the electrons as they\\npass by does not get weaker. It is always the same-sized ﬂash. The only thing\\nthat happens as the light is made dimmer is that sometimes we hear a “click”\\nfrom the detector but see no ﬂash at all. The electron has gone by without being\\n“seen.” What we are observing is that light also acts like electrons, we knew that\\nit was “wavy,” but now we ﬁnd that it is also “lumpy.” It always arrives—or is\\nscattered—in lumps that we call “photons.” As we turn down the intensity of\\nthe light source we do not change the size of the photons, only the rate at which\\nthey are emitted. That explains why, when our source is dim, some electrons get\\n1-12'), Document(metadata={'subject': 'Physics', 'book_name': 'The Feynman Lectures on Physics - Vol 3 - Quantum Mechanics', 'word_count': 255, 'author_name': 'Richard Feynman', 'page_number': 42, 'sub_subject': 'Quantum Mechanics'}, page_content='deductions from the statement, he will make errors in the analysis. This is the\\nlogical tightrope on which we must walk if we wish to describe nature successfully.\\nIf the motion of all matter—as well as electrons—must be described in terms\\nof waves, what about the bullets in our ﬁrst experiment? Why didn’t we see an\\ninterference pattern there? It turns out that for the bullets the wavelengths were\\nso tiny that the interference patterns became very ﬁne. So ﬁne, in fact, that with\\nany detector of ﬁnite size one could not distinguish the separate maxima and\\nminima. What we saw was only a kind of average, which is the classical curve.\\nIn Fig. 1-5 we have tried to indicate schematically what happens with large-scale\\nobjects. Part (a) of the ﬁgure shows the probability distribution one might\\npredict for bullets, using quantum mechanics. The rapid wiggles are supposed to\\nrepresent the interference pattern one gets for waves of very short wavelength.\\nAny physical detector, however, straddles several wiggles of the probability curve,\\nso that the measurements show the smooth curve drawn in part (b) of the ﬁgure.\\n(a)\\nP12\\n(b)\\nP12 (smoothed)\\nx\\nFig. 1-5. Interference pattern with bullets: (a) actual (schematic),\\n(b) observed.\\n1-7 First principles of quantum mechanics\\nWe will now write a summary of the main conclusions of our experiments. We\\nwill, however, put the results in a form which makes them true for a general class\\nof such experiments. We can write our summary more simply if we ﬁrst deﬁne\\n1-15'), Document(metadata={'subject': 'Physics', 'book_name': 'The Feynman Lectures on Physics - Vol 3 - Quantum Mechanics', 'word_count': 385, 'author_name': 'Richard Feynman', 'page_number': 33, 'sub_subject': 'Quantum Mechanics'}, page_content='the detector will be the diﬀerence of the two amplitudes. The waves “interfere\\ndestructively,” and we get a low value for the wave intensity. We expect such low\\nvalues wherever the distance between hole 1 and the detector is diﬀerent from the\\ndistance between hole 2 and the detector by an odd number of half-wavelengths.\\nThe low values of I12 in Fig. 1-2 correspond to the places where the two waves\\ninterfere destructively.\\nYou will remember that the quantitative relationship between I1, I2, and I12\\ncan be expressed in the following way: The instantaneous height of the water\\nwave at the detector for the wave from hole 1 can be written as (the real part\\nof) h1eiωt, where the “amplitude” h1 is, in general, a complex number. The\\nintensity is proportional to the mean squared height or, when we use the complex\\nnumbers, to the absolute value squared |h1|2. Similarly, for hole 2 the height\\nis h2eiωt and the intensity is proportional to |h2|2. When both holes are open,\\nthe wave heights add to give the height (h1 + h2)eiωt and the intensity |h1 + h2|2.\\nOmitting the constant of proportionality for our present purposes, the proper\\nrelations for interfering waves are\\nI1 = |h1|2,\\nI2 = |h2|2,\\nI12 = |h1 + h2|2.\\n(1.2)\\nYou will notice that the result is quite diﬀerent from that obtained with\\nbullets (Eq. 1.1). If we expand |h1 + h2|2 we see that\\n|h1 + h2|2 = |h1|2 + |h2|2 + 2|h1||h2| cos δ,\\n(1.3)\\nwhere δ is the phase diﬀerence between h1 and h2. In terms of the intensities,\\nwe could write\\nI12 = I1 + I2 + 2\\np\\nI1I2 cos δ.\\n(1.4)\\nThe last term in (1.4) is the “interference term.” So much for water waves. The\\nintensity can have any value, and it shows interference.\\n1-4 An experiment with electrons\\nNow we imagine a similar experiment with electrons. It is shown diagram-\\nmatically in Fig. 1-3. We make an electron gun which consists of a tungsten wire\\nheated by an electric current and surrounded by a metal box with a hole in it. If\\nthe wire is at a negative voltage with respect to the box, electrons emitted by\\nthe wire will be accelerated toward the walls and some will pass through the hole.\\n1-6'), Document(metadata={'subject': 'Physics', 'book_name': 'The Feynman Lectures on Physics - Vol 3 - Quantum Mechanics', 'word_count': 484, 'author_name': 'Richard Feynman', 'page_number': 37, 'sub_subject': 'Quantum Mechanics'}, page_content='same as that we had for the water waves! (It is hard to see how one could get\\nsuch a simple result from a complicated game of electrons going back and forth\\nthrough the plate on some strange trajectory.)\\nWe conclude the following: The electrons arrive in lumps, like particles, and\\nthe probability of arrival of these lumps is distributed like the distribution of\\nintensity of a wave. It is in this sense that an electron behaves “sometimes like a\\nparticle and sometimes like a wave.”\\nIncidentally, when we were dealing with classical waves we deﬁned the intensity\\nas the mean over time of the square of the wave amplitude, and we used complex\\nnumbers as a mathematical trick to simplify the analysis.\\nBut in quantum\\nmechanics it turns out that the amplitudes must be represented by complex\\nnumbers. The real parts alone will not do. That is a technical point, for the\\nmoment, because the formulas look just the same.\\nSince the probability of arrival through both holes is given so simply, although\\nit is not equal to (P1 + P2), that is really all there is to say. But there are a\\nlarge number of subtleties involved in the fact that nature does work this way.\\nWe would like to illustrate some of these subtleties for you now. First, since the\\nnumber that arrives at a particular point is not equal to the number that arrives\\nthrough 1 plus the number that arrives through 2, as we would have concluded\\nfrom Proposition A, undoubtedly we should conclude that Proposition A is false.\\nIt is not true that the electrons go either through hole 1 or hole 2. But that\\nconclusion can be tested by another experiment.\\n1-6 Watching the electrons\\nWe shall now try the following experiment. To our electron apparatus we\\nadd a very strong light source, placed behind the wall and between the two holes,\\nas shown in Fig. 1-4. We know that electric charges scatter light. So when an\\nelectron passes, however it does pass, on its way to the detector, it will scatter\\nsome light to our eye, and we can see where the electron goes. If, for instance, an\\nelectron were to take the path via hole 2 that is sketched in Fig. 1-4, we should\\nsee a ﬂash of light coming from the vicinity of the place marked A in the ﬁgure. If\\nan electron passes through hole 1, we would expect to see a ﬂash from the vicinity\\nof the upper hole. If it should happen that we get light from both places at the\\nsame time, because the electron divides in half . . . Let us just do the experiment!\\nHere is what we see: every time that we hear a “click” from our electron\\ndetector (at the backstop), we also see a ﬂash of light either near hole 1 or near\\n1-10'), Document(metadata={'subject': 'Physics', 'book_name': 'The Feynman Lectures on Physics - Vol 3 - Quantum Mechanics', 'word_count': 521, 'author_name': 'Richard Feynman', 'page_number': 41, 'sub_subject': 'Quantum Mechanics'}, page_content='We can no longer tell which hole the electron went through! We just know it went\\nsomewhere! And it is just with light of this color that we ﬁnd that the jolts given\\nto the electron are small enough so that P ′\\n12 begins to look like P12—that we\\nbegin to get some interference eﬀect. And it is only for wavelengths much longer\\nthan the separation of the two holes (when we have no chance at all of telling\\nwhere the electron went) that the disturbance due to the light gets suﬃciently\\nsmall that we again get the curve P12 shown in Fig. 1-3.\\nIn our experiment we ﬁnd that it is impossible to arrange the light in such\\na way that one can tell which hole the electron went through, and at the same\\ntime not disturb the pattern. It was suggested by Heisenberg that the then\\nnew laws of nature could only be consistent if there were some basic limitation\\non our experimental capabilities not previously recognized. He proposed, as a\\ngeneral principle, his uncertainty principle, which we can state in terms of our\\nexperiment as follows: “It is impossible to design an apparatus to determine\\nwhich hole the electron passes through, that will not at the same time disturb the\\nelectrons enough to destroy the interference pattern.” If an apparatus is capable\\nof determining which hole the electron goes through, it cannot be so delicate\\nthat it does not disturb the pattern in an essential way. No one has ever found\\n(or even thought of) a way around the uncertainty principle. So we must assume\\nthat it describes a basic characteristic of nature.\\nThe complete theory of quantum mechanics which we now use to describe\\natoms and, in fact, all matter, depends on the correctness of the uncertainty\\nprinciple. Since quantum mechanics is such a successful theory, our belief in\\nthe uncertainty principle is reinforced. But if a way to “beat” the uncertainty\\nprinciple were ever discovered, quantum mechanics would give inconsistent results\\nand would have to be discarded as a valid theory of nature.\\n“Well,” you say, “what about Proposition A? Is it true, or is it not true,\\nthat the electron either goes through hole 1 or it goes through hole 2?” The only\\nanswer that can be given is that we have found from experiment that there is\\na certain special way that we have to think in order that we do not get into\\ninconsistencies. What we must say (to avoid making wrong predictions) is the\\nfollowing. If one looks at the holes or, more accurately, if one has a piece of\\napparatus which is capable of determining whether the electrons go through\\nhole 1 or hole 2, then one can say that it goes either through hole 1 or hole 2. But,\\nwhen one does not try to tell which way the electron goes, when there is nothing\\nin the experiment to disturb the electrons, then one may not say that an electron\\ngoes either through hole 1 or hole 2. If one does say that, and starts to make any\\n1-14'), Document(metadata={'subject': 'Physics', 'book_name': 'The Feynman Lectures on Physics - Vol 3 - Quantum Mechanics', 'word_count': 278, 'author_name': 'Richard Feynman', 'page_number': 31, 'sub_subject': 'Quantum Mechanics'}, page_content='small if x is very large. You may wonder, however, why P12 has its maximum\\nvalue at x = 0. We can understand this fact if we do our experiment again after\\ncovering up hole 2, and once more while covering up hole 1. When hole 2 is\\ncovered, bullets can pass only through hole 1, and we get the curve marked P1 in\\npart (b) of the ﬁgure. As you would expect, the maximum of P1 occurs at the\\nvalue of x which is on a straight line with the gun and hole 1. When hole 1 is\\nclosed, we get the symmetric curve P2 drawn in the ﬁgure. P2 is the probability\\ndistribution for bullets that pass through hole 2. Comparing parts (b) and (c) of\\nFig. 1-1, we ﬁnd the important result that\\nP12 = P1 + P2.\\n(1.1)\\nThe probabilities just add together. The eﬀect with both holes open is the sum\\nof the eﬀects with each hole open alone. We shall call this result an observation\\nof “no interference,” for a reason that you will see later. So much for bullets.\\nThey come in lumps, and their probability of arrival shows no interference.\\n1-3 An experiment with waves\\nNow we wish to consider an experiment with water waves. The apparatus\\nis shown diagrammatically in Fig. 1-2. We have a shallow trough of water. A\\nsmall object labeled the “wave source” is jiggled up and down by a motor and\\nWAVE\\nSOURCE\\n(a)\\nWALL\\n1\\n2\\nDETECTOR\\nABSORBER\\n(b)\\nx\\nI1\\nI2\\nI1 = |h1|2\\nI2 = |h2|2\\n(c)\\nx\\nI12\\nI12 = |h1 + h2|2\\nFig. 1-2. Interference experiment with water waves.\\n1-4'), Document(metadata={'subject': 'Physics', 'book_name': 'The Feynman Lectures on Physics - Vol 3 - Quantum Mechanics', 'word_count': 297, 'author_name': 'Richard Feynman', 'page_number': 29, 'sub_subject': 'Quantum Mechanics'}, page_content='Because atomic behavior is so unlike ordinary experience, it is very diﬃcult\\nto get used to, and it appears peculiar and mysterious to everyone—both to the\\nnovice and to the experienced physicist. Even the experts do not understand it\\nthe way they would like to, and it is perfectly reasonable that they should not,\\nbecause all of direct, human experience and of human intuition applies to large\\nobjects. We know how large objects will act, but things on a small scale just\\ndo not act that way. So we have to learn about them in a sort of abstract or\\nimaginative fashion and not by connection with our direct experience.\\nIn this chapter we shall tackle immediately the basic element of the mysterious\\nbehavior in its most strange form. We choose to examine a phenomenon which is\\nimpossible, absolutely impossible, to explain in any classical way, and which has\\nin it the heart of quantum mechanics. In reality, it contains the only mystery.\\nWe cannot make the mystery go away by “explaining” how it works. We will just\\ntell you how it works. In telling you how it works we will have told you about\\nthe basic peculiarities of all quantum mechanics.\\n1-2 An experiment with bullets\\nTo try to understand the quantum behavior of electrons, we shall compare\\nand contrast their behavior, in a particular experimental setup, with the more\\nfamiliar behavior of particles like bullets, and with the behavior of waves like\\nwater waves. We consider ﬁrst the behavior of bullets in the experimental setup\\nshown diagrammatically in Fig. 1-1. We have a machine gun that shoots a stream\\nGUN\\n(a)\\nWALL\\n1\\n2\\nx\\nMOVABLE\\nDETECTOR\\nBACKSTOP\\n(b)\\nP1\\nP2\\n(c)\\nP12\\nP12 = P1 + P2\\nFig. 1-1. Interference experiment with bullets.\\n1-2'), Document(metadata={'subject': 'Physics', 'book_name': 'The Feynman Lectures on Physics - Vol 3 - Quantum Mechanics', 'word_count': 304, 'author_name': 'Richard Feynman', 'page_number': 46, 'sub_subject': 'Quantum Mechanics'}, page_content='Now in order to do this it is necessary to know what the momentum of the\\nscreen is, before the electron goes through. So when we measure the momentum\\nafter the electron goes by, we can ﬁgure out how much the plate’s momentum has\\nchanged. But remember, according to the uncertainty principle we cannot at the\\nsame time know the position of the plate with an arbitrary accuracy. But if we do\\nnot know exactly where the plate is, we cannot say precisely where the two holes\\nare. They will be in a diﬀerent place for every electron that goes through. This\\nmeans that the center of our interference pattern will have a diﬀerent location for\\neach electron. The wiggles of the interference pattern will be smeared out. We\\nshall show quantitatively in the next chapter that if we determine the momentum\\nof the plate suﬃciently accurately to determine from the recoil measurement\\nwhich hole was used, then the uncertainty in the x-position of the plate will,\\naccording to the uncertainty principle, be enough to shift the pattern observed at\\nthe detector up and down in the x-direction about the distance from a maximum\\nto its nearest minimum. Such a random shift is just enough to smear out the\\npattern so that no interference is observed.\\nThe uncertainty principle “protects” quantum mechanics. Heisenberg rec-\\nognized that if it were possible to measure the momentum and the position\\nsimultaneously with a greater accuracy, the quantum mechanics would collapse.\\nSo he proposed that it must be impossible. Then people sat down and tried to\\nﬁgure out ways of doing it, and nobody could ﬁgure out a way to measure the\\nposition and the momentum of anything—a screen, an electron, a billiard ball,\\nanything—with any greater accuracy. Quantum mechanics maintains its perilous\\nbut still correct existence.\\n1-19'), Document(metadata={'source': 'websearch'}, page_content='In explaining x-ray diffraction of crystals, usually the approach is to consider the atoms absorb radiation and scatter it, at some angles\\nCrystal Diffraction When a radiation is incident through medium, it will reflect its path behind the medium .The incident beam will interact with atoms of medium. Diffraction: It is defined as the bending of waves around the corners of an obstacle or through an aperture into the region of geometrical shadow of the obstacle/aperture. The diffracting object or aperture effectively becomes a secondary source of the propagating wave. The diffraction depends on: 1-Crystal structure, thus the crystal\\nDiffraction occurs when a wave meets a set of regularly spaced scattering objects, and its wavelength of the distance between the scattering objects are of the same order of magnitude. This makes X-rays suitable for crystallography, as its wavelength and crystal lattice parameters are both in the scale of angstroms (Å). Crystal diffraction can be described by Bragg diffraction, \\\\ref{2}, where λ is the wavelength of the incident monochromatic X-ray, d is the distance between parallel crystal [...] Described simply, single-crystal X-ray diffraction (XRD) is a technique in which a crystal of a sample under study is bombarded with an X-ray beam from many different angles, and the resulting diffraction patterns are measured and recorded. By aggregating the diffraction patterns and converting them via Fourier transform to an electron density map, a unit cell can be constructed which indicates the average atomic positions, bond lengths, and relative orientations of the molecules within the [...] As a result, crystals have many different diffraction planes extending in certain orientations based on the crystal’s symmetry group. For this reason, it is necessary to observe diffraction patterns from many different angles and orientations of the crystal to obtain a complete picture of the reciprocal lattice.')], 'web_fallback': False}}\n",
      "\n",
      "---\n",
      "\n",
      "{'generate': {'retries': 4, 'candidate_answer': 'Diffraction in crystals occurs when waves, such as X-rays, encounter a set of regularly spaced atoms and bend around obstacles or pass through apertures, creating interference patterns. It depends on the crystal structure and the wavelength of the incident wave being comparable to the spacing between atomic planes, typically on the order of angstroms. This phenomenon is described by Bragg diffraction, which allows the determination of atomic arrangements within the crystal through analysis of the diffraction patterns.'}}\n",
      "\n",
      "---\n",
      "\n",
      "{'finalize_response': {'messages': [AIMessage(content='Diffraction in crystals occurs when waves, such as X-rays, encounter a set of regularly spaced atoms and bend around obstacles or pass through apertures, creating interference patterns. It depends on the crystal structure and the wavelength of the incident wave being comparable to the spacing between atomic planes, typically on the order of angstroms. This phenomenon is described by Bragg diffraction, which allows the determination of atomic arrangements within the crystal through analysis of the diffraction patterns.', additional_kwargs={}, response_metadata={}, id='03cd4edd-ce97-4ce9-8f7a-c0521f1812b5')]}}\n",
      "\n",
      "---\n",
      "\n"
     ]
    }
   ],
   "source": [
    "VERBOSE = False\n",
    "inputs = {\"messages\": [(\"human\", \"explain diffraction in crystals\")]}\n",
    "for output in self_crag.stream(inputs):\n",
    "    print(output)\n",
    "    print(\"\\n---\\n\")"
   ]
  },
  {
   "cell_type": "code",
   "execution_count": 11,
   "id": "06444428-da3d-4ed9-8c4a-4625944f16c6",
   "metadata": {},
   "outputs": [],
   "source": [
    "VERBOSE = False\n",
    "inputs = {\"messages\": [(\"human\", \"explain diffraction in crystals\")]}\n",
    "async for event in self_crag.astream_events(inputs, version=\"v2\"):\n",
    "    if event[\"event\"] == \"on_chat_model_stream\":\n",
    "        event[\"data\"][\"chunk\"].pretty_print()\n"
   ]
  },
  {
   "cell_type": "code",
   "execution_count": 12,
   "id": "f0f651c6-7598-4308-b853-38c33d2b53ad",
   "metadata": {},
   "outputs": [
    {
     "data": {
      "text/plain": [
       "{'event': 'on_chain_end',\n",
       " 'data': {'output': {'messages': [HumanMessage(content='explain diffraction in crystals', additional_kwargs={}, response_metadata={}, id='c4c8a8ed-40c5-4f39-bcc1-7dd94fd49b90'),\n",
       "    AIMessage(content=\"Diffraction in crystals occurs when waves, such as X-rays or electrons, encounter the regular, repeating atomic structure of a crystal, causing them to bend and interfere. This interference produces specific patterns that can be observed and analyzed to determine the crystal's atomic arrangement. It is a wave phenomenon that reveals the internal structure of crystals through the resulting diffraction patterns.\", additional_kwargs={}, response_metadata={}, id='bd62bdfc-7f7a-444f-8313-c15f5c17d7c4')],\n",
       "   'question': 'explain diffraction in crystals',\n",
       "   'documents': [Document(metadata={'subject': 'Physics', 'book_name': 'The Feynman Lectures on Physics - Vol 3 - Quantum Mechanics', 'word_count': 501, 'author_name': 'Richard Feynman', 'page_number': 40, 'sub_subject': 'Quantum Mechanics'}, page_content='by without being seen. There did not happen to be a photon around at the time\\nthe electron went through.\\nThis is all a little discouraging. If it is true that whenever we “see” the electron\\nwe see the same-sized ﬂash, then those electrons we see are always the disturbed\\nones. Let us try the experiment with a dim light anyway. Now whenever we\\nhear a click in the detector we will keep a count in three columns: in Column (1)\\nthose electrons seen by hole 1, in Column (2) those electrons seen by hole 2,\\nand in Column (3) those electrons not seen at all. When we work up our data\\n(computing the probabilities) we ﬁnd these results: Those “seen by hole 1” have\\na distribution like P ′\\n1; those “seen by hole 2” have a distribution like P ′\\n2 (so that\\nthose “seen by either hole 1 or 2” have a distribution like P ′\\n12); and those “not\\nseen at all” have a “wavy” distribution just like P12 of Fig. 1-3! If the electrons\\nare not seen, we have interference!\\nThat is understandable. When we do not see the electron, no photon disturbs\\nit, and when we do see it, a photon has disturbed it. There is always the same\\namount of disturbance because the light photons all produce the same-sized\\neﬀects and the eﬀect of the photons being scattered is enough to smear out any\\ninterference eﬀect.\\nIs there not some way we can see the electrons without disturbing them?\\nWe learned in an earlier chapter that the momentum carried by a “photon” is\\ninversely proportional to its wavelength (p = h/λ). Certainly the jolt given\\nto the electron when the photon is scattered toward our eye depends on the\\nmomentum that photon carries. Aha! If we want to disturb the electrons only\\nslightly we should not have lowered the intensity of the light, we should have\\nlowered its frequency (the same as increasing its wavelength). Let us use light of\\na redder color. We could even use infrared light, or radiowaves (like radar), and\\n“see” where the electron went with the help of some equipment that can “see”\\nlight of these longer wavelengths. If we use “gentler” light perhaps we can avoid\\ndisturbing the electrons so much.\\nLet us try the experiment with longer waves. We shall keep repeating our\\nexperiment, each time with light of a longer wavelength. At ﬁrst, nothing seems to\\nchange. The results are the same. Then a terrible thing happens. You remember\\nthat when we discussed the microscope we pointed out that, due to the wave\\nnature of the light, there is a limitation on how close two spots can be and still\\nbe seen as two separate spots. This distance is of the order of the wavelength of\\nlight. So now, when we make the wavelength longer than the distance between\\nour holes, we see a big fuzzy ﬂash when the light is scattered by the electrons.\\n1-13'),\n",
       "    Document(metadata={'subject': 'Physics', 'book_name': 'The Feynman Lectures on Physics - Vol 3 - Quantum Mechanics', 'word_count': 514, 'author_name': 'Richard Feynman', 'page_number': 32, 'sub_subject': 'Quantum Mechanics'}, page_content='makes circular waves. To the right of the source we have again a wall with two\\nholes, and beyond that is a second wall, which, to keep things simple, is an\\n“absorber,” so that there is no reﬂection of the waves that arrive there. This can\\nbe done by building a gradual sand “beach.” In front of the beach we place a\\ndetector which can be moved back and forth in the x-direction, as before. The\\ndetector is now a device which measures the “intensity” of the wave motion. You\\ncan imagine a gadget which measures the height of the wave motion, but whose\\nscale is calibrated in proportion to the square of the actual height, so that the\\nreading is proportional to the intensity of the wave. Our detector reads, then, in\\nproportion to the energy being carried by the wave—or rather, the rate at which\\nenergy is carried to the detector.\\nWith our wave apparatus, the ﬁrst thing to notice is that the intensity can have\\nany size. If the source just moves a very small amount, then there is just a little bit\\nof wave motion at the detector. When there is more motion at the source, there\\nis more intensity at the detector. The intensity of the wave can have any value\\nat all. We would not say that there was any “lumpiness” in the wave intensity.\\nNow let us measure the wave intensity for various values of x (keeping the\\nwave source operating always in the same way). We get the interesting-looking\\ncurve marked I12 in part (c) of the ﬁgure.\\nWe have already worked out how such patterns can come about when we\\nstudied the interference of electric waves in Volume I. In this case we would\\nobserve that the original wave is diﬀracted at the holes, and new circular waves\\nspread out from each hole. If we cover one hole at a time and measure the\\nintensity distribution at the absorber we ﬁnd the rather simple intensity curves\\nshown in part (b) of the ﬁgure. I1 is the intensity of the wave from hole 1 (which\\nwe ﬁnd by measuring when hole 2 is blocked oﬀ) and I2 is the intensity of the\\nwave from hole 2 (seen when hole 1 is blocked).\\nThe intensity I12 observed when both holes are open is certainly not the sum\\nof I1 and I2. We say that there is “interference” of the two waves. At some places\\n(where the curve I12 has its maxima) the waves are “in phase” and the wave\\npeaks add together to give a large amplitude and, therefore, a large intensity.\\nWe say that the two waves are “interfering constructively” at such places. There\\nwill be such constructive interference wherever the distance from the detector to\\none hole is a whole number of wavelengths larger (or shorter) than the distance\\nfrom the detector to the other hole.\\nAt those places where the two waves arrive at the detector with a phase\\ndiﬀerence of π (where they are “out of phase”) the resulting wave motion at\\n1-5'),\n",
       "    Document(metadata={'subject': 'Physics', 'book_name': 'The Feynman Lectures on Physics - Vol 3 - Quantum Mechanics', 'word_count': 528, 'author_name': 'Richard Feynman', 'page_number': 39, 'sub_subject': 'Quantum Mechanics'}, page_content='expect them to come through. Whether the holes are closed or open, those which\\nwe see come through hole 1 are distributed in the same way whether hole 2 is\\nopen or closed.\\nBut wait! What do we have now for the total probability, the probability\\nthat an electron will arrive at the detector by any route? We already have that\\ninformation. We just pretend that we never looked at the light ﬂashes, and we\\nlump together the detector clicks which we have separated into the two columns.\\nWe must just add the numbers. For the probability that an electron will arrive\\nat the backstop by passing through either hole, we do ﬁnd P ′\\n12 = P ′\\n1 + P ′\\n2. That\\nis, although we succeeded in watching which hole our electrons come through,\\nwe no longer get the old interference curve P12, but a new one, P ′\\n12, showing no\\ninterference! If we turn out the light P12 is restored.\\nWe must conclude that when we look at the electrons the distribution of them\\non the screen is diﬀerent than when we do not look. Perhaps it is turning on\\nour light source that disturbs things? It must be that the electrons are very\\ndelicate, and the light, when it scatters oﬀthe electrons, gives them a jolt that\\nchanges their motion. We know that the electric ﬁeld of the light acting on a\\ncharge will exert a force on it. So perhaps we should expect the motion to be\\nchanged. Anyway, the light exerts a big inﬂuence on the electrons. By trying to\\n“watch” the electrons we have changed their motions. That is, the jolt given to\\nthe electron when the photon is scattered by it is such as to change the electron’s\\nmotion enough so that if it might have gone to where P12 was at a maximum it\\nwill instead land where P12 was a minimum; that is why we no longer see the\\nwavy interference eﬀects.\\nYou may be thinking: “Don’t use such a bright source! Turn the brightness\\ndown! The light waves will then be weaker and will not disturb the electrons so\\nmuch. Surely, by making the light dimmer and dimmer, eventually the wave will\\nbe weak enough that it will have a negligible eﬀect.” O.K. Let’s try it. The ﬁrst\\nthing we observe is that the ﬂashes of light scattered from the electrons as they\\npass by does not get weaker. It is always the same-sized ﬂash. The only thing\\nthat happens as the light is made dimmer is that sometimes we hear a “click”\\nfrom the detector but see no ﬂash at all. The electron has gone by without being\\n“seen.” What we are observing is that light also acts like electrons, we knew that\\nit was “wavy,” but now we ﬁnd that it is also “lumpy.” It always arrives—or is\\nscattered—in lumps that we call “photons.” As we turn down the intensity of\\nthe light source we do not change the size of the photons, only the rate at which\\nthey are emitted. That explains why, when our source is dim, some electrons get\\n1-12'),\n",
       "    Document(metadata={'subject': 'Physics', 'book_name': 'The Feynman Lectures on Physics - Vol 3 - Quantum Mechanics', 'word_count': 255, 'author_name': 'Richard Feynman', 'page_number': 42, 'sub_subject': 'Quantum Mechanics'}, page_content='deductions from the statement, he will make errors in the analysis. This is the\\nlogical tightrope on which we must walk if we wish to describe nature successfully.\\nIf the motion of all matter—as well as electrons—must be described in terms\\nof waves, what about the bullets in our ﬁrst experiment? Why didn’t we see an\\ninterference pattern there? It turns out that for the bullets the wavelengths were\\nso tiny that the interference patterns became very ﬁne. So ﬁne, in fact, that with\\nany detector of ﬁnite size one could not distinguish the separate maxima and\\nminima. What we saw was only a kind of average, which is the classical curve.\\nIn Fig. 1-5 we have tried to indicate schematically what happens with large-scale\\nobjects. Part (a) of the ﬁgure shows the probability distribution one might\\npredict for bullets, using quantum mechanics. The rapid wiggles are supposed to\\nrepresent the interference pattern one gets for waves of very short wavelength.\\nAny physical detector, however, straddles several wiggles of the probability curve,\\nso that the measurements show the smooth curve drawn in part (b) of the ﬁgure.\\n(a)\\nP12\\n(b)\\nP12 (smoothed)\\nx\\nFig. 1-5. Interference pattern with bullets: (a) actual (schematic),\\n(b) observed.\\n1-7 First principles of quantum mechanics\\nWe will now write a summary of the main conclusions of our experiments. We\\nwill, however, put the results in a form which makes them true for a general class\\nof such experiments. We can write our summary more simply if we ﬁrst deﬁne\\n1-15'),\n",
       "    Document(metadata={'subject': 'Physics', 'book_name': 'The Feynman Lectures on Physics - Vol 3 - Quantum Mechanics', 'word_count': 385, 'author_name': 'Richard Feynman', 'page_number': 33, 'sub_subject': 'Quantum Mechanics'}, page_content='the detector will be the diﬀerence of the two amplitudes. The waves “interfere\\ndestructively,” and we get a low value for the wave intensity. We expect such low\\nvalues wherever the distance between hole 1 and the detector is diﬀerent from the\\ndistance between hole 2 and the detector by an odd number of half-wavelengths.\\nThe low values of I12 in Fig. 1-2 correspond to the places where the two waves\\ninterfere destructively.\\nYou will remember that the quantitative relationship between I1, I2, and I12\\ncan be expressed in the following way: The instantaneous height of the water\\nwave at the detector for the wave from hole 1 can be written as (the real part\\nof) h1eiωt, where the “amplitude” h1 is, in general, a complex number. The\\nintensity is proportional to the mean squared height or, when we use the complex\\nnumbers, to the absolute value squared |h1|2. Similarly, for hole 2 the height\\nis h2eiωt and the intensity is proportional to |h2|2. When both holes are open,\\nthe wave heights add to give the height (h1 + h2)eiωt and the intensity |h1 + h2|2.\\nOmitting the constant of proportionality for our present purposes, the proper\\nrelations for interfering waves are\\nI1 = |h1|2,\\nI2 = |h2|2,\\nI12 = |h1 + h2|2.\\n(1.2)\\nYou will notice that the result is quite diﬀerent from that obtained with\\nbullets (Eq. 1.1). If we expand |h1 + h2|2 we see that\\n|h1 + h2|2 = |h1|2 + |h2|2 + 2|h1||h2| cos δ,\\n(1.3)\\nwhere δ is the phase diﬀerence between h1 and h2. In terms of the intensities,\\nwe could write\\nI12 = I1 + I2 + 2\\np\\nI1I2 cos δ.\\n(1.4)\\nThe last term in (1.4) is the “interference term.” So much for water waves. The\\nintensity can have any value, and it shows interference.\\n1-4 An experiment with electrons\\nNow we imagine a similar experiment with electrons. It is shown diagram-\\nmatically in Fig. 1-3. We make an electron gun which consists of a tungsten wire\\nheated by an electric current and surrounded by a metal box with a hole in it. If\\nthe wire is at a negative voltage with respect to the box, electrons emitted by\\nthe wire will be accelerated toward the walls and some will pass through the hole.\\n1-6'),\n",
       "    Document(metadata={'subject': 'Physics', 'book_name': 'The Feynman Lectures on Physics - Vol 3 - Quantum Mechanics', 'word_count': 484, 'author_name': 'Richard Feynman', 'page_number': 37, 'sub_subject': 'Quantum Mechanics'}, page_content='same as that we had for the water waves! (It is hard to see how one could get\\nsuch a simple result from a complicated game of electrons going back and forth\\nthrough the plate on some strange trajectory.)\\nWe conclude the following: The electrons arrive in lumps, like particles, and\\nthe probability of arrival of these lumps is distributed like the distribution of\\nintensity of a wave. It is in this sense that an electron behaves “sometimes like a\\nparticle and sometimes like a wave.”\\nIncidentally, when we were dealing with classical waves we deﬁned the intensity\\nas the mean over time of the square of the wave amplitude, and we used complex\\nnumbers as a mathematical trick to simplify the analysis.\\nBut in quantum\\nmechanics it turns out that the amplitudes must be represented by complex\\nnumbers. The real parts alone will not do. That is a technical point, for the\\nmoment, because the formulas look just the same.\\nSince the probability of arrival through both holes is given so simply, although\\nit is not equal to (P1 + P2), that is really all there is to say. But there are a\\nlarge number of subtleties involved in the fact that nature does work this way.\\nWe would like to illustrate some of these subtleties for you now. First, since the\\nnumber that arrives at a particular point is not equal to the number that arrives\\nthrough 1 plus the number that arrives through 2, as we would have concluded\\nfrom Proposition A, undoubtedly we should conclude that Proposition A is false.\\nIt is not true that the electrons go either through hole 1 or hole 2. But that\\nconclusion can be tested by another experiment.\\n1-6 Watching the electrons\\nWe shall now try the following experiment. To our electron apparatus we\\nadd a very strong light source, placed behind the wall and between the two holes,\\nas shown in Fig. 1-4. We know that electric charges scatter light. So when an\\nelectron passes, however it does pass, on its way to the detector, it will scatter\\nsome light to our eye, and we can see where the electron goes. If, for instance, an\\nelectron were to take the path via hole 2 that is sketched in Fig. 1-4, we should\\nsee a ﬂash of light coming from the vicinity of the place marked A in the ﬁgure. If\\nan electron passes through hole 1, we would expect to see a ﬂash from the vicinity\\nof the upper hole. If it should happen that we get light from both places at the\\nsame time, because the electron divides in half . . . Let us just do the experiment!\\nHere is what we see: every time that we hear a “click” from our electron\\ndetector (at the backstop), we also see a ﬂash of light either near hole 1 or near\\n1-10'),\n",
       "    Document(metadata={'subject': 'Physics', 'book_name': 'The Feynman Lectures on Physics - Vol 3 - Quantum Mechanics', 'word_count': 521, 'author_name': 'Richard Feynman', 'page_number': 41, 'sub_subject': 'Quantum Mechanics'}, page_content='We can no longer tell which hole the electron went through! We just know it went\\nsomewhere! And it is just with light of this color that we ﬁnd that the jolts given\\nto the electron are small enough so that P ′\\n12 begins to look like P12—that we\\nbegin to get some interference eﬀect. And it is only for wavelengths much longer\\nthan the separation of the two holes (when we have no chance at all of telling\\nwhere the electron went) that the disturbance due to the light gets suﬃciently\\nsmall that we again get the curve P12 shown in Fig. 1-3.\\nIn our experiment we ﬁnd that it is impossible to arrange the light in such\\na way that one can tell which hole the electron went through, and at the same\\ntime not disturb the pattern. It was suggested by Heisenberg that the then\\nnew laws of nature could only be consistent if there were some basic limitation\\non our experimental capabilities not previously recognized. He proposed, as a\\ngeneral principle, his uncertainty principle, which we can state in terms of our\\nexperiment as follows: “It is impossible to design an apparatus to determine\\nwhich hole the electron passes through, that will not at the same time disturb the\\nelectrons enough to destroy the interference pattern.” If an apparatus is capable\\nof determining which hole the electron goes through, it cannot be so delicate\\nthat it does not disturb the pattern in an essential way. No one has ever found\\n(or even thought of) a way around the uncertainty principle. So we must assume\\nthat it describes a basic characteristic of nature.\\nThe complete theory of quantum mechanics which we now use to describe\\natoms and, in fact, all matter, depends on the correctness of the uncertainty\\nprinciple. Since quantum mechanics is such a successful theory, our belief in\\nthe uncertainty principle is reinforced. But if a way to “beat” the uncertainty\\nprinciple were ever discovered, quantum mechanics would give inconsistent results\\nand would have to be discarded as a valid theory of nature.\\n“Well,” you say, “what about Proposition A? Is it true, or is it not true,\\nthat the electron either goes through hole 1 or it goes through hole 2?” The only\\nanswer that can be given is that we have found from experiment that there is\\na certain special way that we have to think in order that we do not get into\\ninconsistencies. What we must say (to avoid making wrong predictions) is the\\nfollowing. If one looks at the holes or, more accurately, if one has a piece of\\napparatus which is capable of determining whether the electrons go through\\nhole 1 or hole 2, then one can say that it goes either through hole 1 or hole 2. But,\\nwhen one does not try to tell which way the electron goes, when there is nothing\\nin the experiment to disturb the electrons, then one may not say that an electron\\ngoes either through hole 1 or hole 2. If one does say that, and starts to make any\\n1-14'),\n",
       "    Document(metadata={'subject': 'Physics', 'book_name': 'The Feynman Lectures on Physics - Vol 3 - Quantum Mechanics', 'word_count': 278, 'author_name': 'Richard Feynman', 'page_number': 31, 'sub_subject': 'Quantum Mechanics'}, page_content='small if x is very large. You may wonder, however, why P12 has its maximum\\nvalue at x = 0. We can understand this fact if we do our experiment again after\\ncovering up hole 2, and once more while covering up hole 1. When hole 2 is\\ncovered, bullets can pass only through hole 1, and we get the curve marked P1 in\\npart (b) of the ﬁgure. As you would expect, the maximum of P1 occurs at the\\nvalue of x which is on a straight line with the gun and hole 1. When hole 1 is\\nclosed, we get the symmetric curve P2 drawn in the ﬁgure. P2 is the probability\\ndistribution for bullets that pass through hole 2. Comparing parts (b) and (c) of\\nFig. 1-1, we ﬁnd the important result that\\nP12 = P1 + P2.\\n(1.1)\\nThe probabilities just add together. The eﬀect with both holes open is the sum\\nof the eﬀects with each hole open alone. We shall call this result an observation\\nof “no interference,” for a reason that you will see later. So much for bullets.\\nThey come in lumps, and their probability of arrival shows no interference.\\n1-3 An experiment with waves\\nNow we wish to consider an experiment with water waves. The apparatus\\nis shown diagrammatically in Fig. 1-2. We have a shallow trough of water. A\\nsmall object labeled the “wave source” is jiggled up and down by a motor and\\nWAVE\\nSOURCE\\n(a)\\nWALL\\n1\\n2\\nDETECTOR\\nABSORBER\\n(b)\\nx\\nI1\\nI2\\nI1 = |h1|2\\nI2 = |h2|2\\n(c)\\nx\\nI12\\nI12 = |h1 + h2|2\\nFig. 1-2. Interference experiment with water waves.\\n1-4'),\n",
       "    Document(metadata={'subject': 'Physics', 'book_name': 'The Feynman Lectures on Physics - Vol 3 - Quantum Mechanics', 'word_count': 297, 'author_name': 'Richard Feynman', 'page_number': 29, 'sub_subject': 'Quantum Mechanics'}, page_content='Because atomic behavior is so unlike ordinary experience, it is very diﬃcult\\nto get used to, and it appears peculiar and mysterious to everyone—both to the\\nnovice and to the experienced physicist. Even the experts do not understand it\\nthe way they would like to, and it is perfectly reasonable that they should not,\\nbecause all of direct, human experience and of human intuition applies to large\\nobjects. We know how large objects will act, but things on a small scale just\\ndo not act that way. So we have to learn about them in a sort of abstract or\\nimaginative fashion and not by connection with our direct experience.\\nIn this chapter we shall tackle immediately the basic element of the mysterious\\nbehavior in its most strange form. We choose to examine a phenomenon which is\\nimpossible, absolutely impossible, to explain in any classical way, and which has\\nin it the heart of quantum mechanics. In reality, it contains the only mystery.\\nWe cannot make the mystery go away by “explaining” how it works. We will just\\ntell you how it works. In telling you how it works we will have told you about\\nthe basic peculiarities of all quantum mechanics.\\n1-2 An experiment with bullets\\nTo try to understand the quantum behavior of electrons, we shall compare\\nand contrast their behavior, in a particular experimental setup, with the more\\nfamiliar behavior of particles like bullets, and with the behavior of waves like\\nwater waves. We consider ﬁrst the behavior of bullets in the experimental setup\\nshown diagrammatically in Fig. 1-1. We have a machine gun that shoots a stream\\nGUN\\n(a)\\nWALL\\n1\\n2\\nx\\nMOVABLE\\nDETECTOR\\nBACKSTOP\\n(b)\\nP1\\nP2\\n(c)\\nP12\\nP12 = P1 + P2\\nFig. 1-1. Interference experiment with bullets.\\n1-2'),\n",
       "    Document(metadata={'subject': 'Physics', 'book_name': 'The Feynman Lectures on Physics - Vol 3 - Quantum Mechanics', 'word_count': 304, 'author_name': 'Richard Feynman', 'page_number': 46, 'sub_subject': 'Quantum Mechanics'}, page_content='Now in order to do this it is necessary to know what the momentum of the\\nscreen is, before the electron goes through. So when we measure the momentum\\nafter the electron goes by, we can ﬁgure out how much the plate’s momentum has\\nchanged. But remember, according to the uncertainty principle we cannot at the\\nsame time know the position of the plate with an arbitrary accuracy. But if we do\\nnot know exactly where the plate is, we cannot say precisely where the two holes\\nare. They will be in a diﬀerent place for every electron that goes through. This\\nmeans that the center of our interference pattern will have a diﬀerent location for\\neach electron. The wiggles of the interference pattern will be smeared out. We\\nshall show quantitatively in the next chapter that if we determine the momentum\\nof the plate suﬃciently accurately to determine from the recoil measurement\\nwhich hole was used, then the uncertainty in the x-position of the plate will,\\naccording to the uncertainty principle, be enough to shift the pattern observed at\\nthe detector up and down in the x-direction about the distance from a maximum\\nto its nearest minimum. Such a random shift is just enough to smear out the\\npattern so that no interference is observed.\\nThe uncertainty principle “protects” quantum mechanics. Heisenberg rec-\\nognized that if it were possible to measure the momentum and the position\\nsimultaneously with a greater accuracy, the quantum mechanics would collapse.\\nSo he proposed that it must be impossible. Then people sat down and tried to\\nﬁgure out ways of doing it, and nobody could ﬁgure out a way to measure the\\nposition and the momentum of anything—a screen, an electron, a billiard ball,\\nanything—with any greater accuracy. Quantum mechanics maintains its perilous\\nbut still correct existence.\\n1-19')],\n",
       "   'candidate_answer': \"Diffraction in crystals occurs when waves, such as X-rays or electrons, encounter the regular, repeating atomic structure of a crystal, causing them to bend and interfere. This interference produces specific patterns that can be observed and analyzed to determine the crystal's atomic arrangement. It is a wave phenomenon that reveals the internal structure of crystals through the resulting diffraction patterns.\",\n",
       "   'retries': 3,\n",
       "   'web_fallback': True}},\n",
       " 'run_id': '940ad2ac-4ab0-470f-a73c-9591586c194d',\n",
       " 'name': 'LangGraph',\n",
       " 'tags': [],\n",
       " 'metadata': {},\n",
       " 'parent_ids': []}"
      ]
     },
     "execution_count": 12,
     "metadata": {},
     "output_type": "execute_result"
    }
   ],
   "source": [
    "event"
   ]
  }
 ],
 "metadata": {
  "kernelspec": {
   "display_name": "Python 3 (ipykernel)",
   "language": "python",
   "name": "python3"
  },
  "language_info": {
   "codemirror_mode": {
    "name": "ipython",
    "version": 3
   },
   "file_extension": ".py",
   "mimetype": "text/x-python",
   "name": "python",
   "nbconvert_exporter": "python",
   "pygments_lexer": "ipython3",
   "version": "3.10.10"
  }
 },
 "nbformat": 4,
 "nbformat_minor": 5
}
