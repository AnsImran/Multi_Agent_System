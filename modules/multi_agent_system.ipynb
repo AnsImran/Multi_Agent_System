{
 "cells": [
  {
   "cell_type": "code",
   "execution_count": 2,
   "id": "c84b6c8b-4d6c-44fa-a116-9b8c3cd5c30d",
   "metadata": {},
   "outputs": [],
   "source": [
    "# # references\n",
    "# conditional edges:\n",
    "#                     module 4, nb 4\n",
    "#                     module 1, nb 1, 3, 4, 5\n",
    "\n"
   ]
  },
  {
   "cell_type": "code",
   "execution_count": 3,
   "id": "b2dd7557-4e32-4134-addf-0772d3828523",
   "metadata": {},
   "outputs": [],
   "source": [
    "## testing the LLM api\n",
    "# from langchain_core.messages import HumanMessage\n",
    "# from langchain_openai import ChatOpenAI\n",
    "\n",
    "# # Initialize the model\n",
    "# model    = ChatOpenAI(model=\"gpt-4.1-nano-2025-04-14\", temperature=0)\n",
    "# test_out = model.invoke([HumanMessage(\"My name is Lance. How are you?\")])\n",
    "# test_out.content\n"
   ]
  },
  {
   "cell_type": "markdown",
   "id": "d054e706-5539-4d6c-a856-44b152898de9",
   "metadata": {},
   "source": [
    "# Self Corrective RAG Agent"
   ]
  },
  {
   "cell_type": "code",
   "execution_count": 4,
   "id": "1bfcbf72-3992-46c8-a2d0-441a60a3b1a5",
   "metadata": {},
   "outputs": [],
   "source": [
    "from Self_Corrective_RAG_Agent_module import build_self_corrective_rag_agent\n",
    "\n",
    "Self_Corrective_RAG_Agent = build_self_corrective_rag_agent()\n",
    "\n",
    "# self_crag = self_crag.compile()\n",
    "\n",
    "# # # example usage\n",
    "# # VERBOSE = True\n",
    "# # inputs = {\"messages\": [(\"human\", \"explain uncertainty principle in quantum mechanics\")]}\n",
    "# # for output in self_crag.stream(inputs):\n",
    "# #     print(\"\\n---\\n\")\n"
   ]
  },
  {
   "cell_type": "code",
   "execution_count": 5,
   "id": "7241cf92-bee3-4aab-81d8-98f658cb9973",
   "metadata": {},
   "outputs": [],
   "source": [
    "a=3"
   ]
  },
  {
   "cell_type": "markdown",
   "id": "c0917301-ffe0-44f6-bd59-1b82a9331c8e",
   "metadata": {},
   "source": [
    "# Loading env Variables"
   ]
  },
  {
   "cell_type": "code",
   "execution_count": 6,
   "id": "f49380ab-3e1d-474e-889c-a61b37a5f8cf",
   "metadata": {},
   "outputs": [],
   "source": [
    "import os\n",
    "from dotenv import load_dotenv\n",
    "\n",
    "load_dotenv()  # Load environment variables from a .env file\n",
    "\n",
    "# Access API keys and credentials\n",
    "OPENAI_API_KEY    = os.environ[\"OPENAI_API_KEY\"]\n",
    "TIMESCALE_DB_URI  = os.environ[\"TIMESCALE_DB_URI\"]\n",
    "TAVILY_API_KEY    = os.environ[\"TAVILY_API_KEY\"]\n",
    "LANGCHAIN_API_KEY = os.environ[\"LANGCHAIN_API_KEY\"] \n",
    "MAIN_AGENT_DB_URI = os.environ[\"MAIN_AGENT_DB_URI\"]\n",
    "\n",
    "# os.environ[\"LANGCHAIN_TRACING_V2\"] = \"true\"\n",
    "# os.environ[\"LANGCHAIN_PROJECT\"]    = \"langchain-academy\"\n"
   ]
  },
  {
   "cell_type": "markdown",
   "id": "2b653104-9d25-4b64-b29c-86e093cf810a",
   "metadata": {},
   "source": [
    "# Calculators\n"
   ]
  },
  {
   "cell_type": "code",
   "execution_count": 7,
   "id": "24eaf3b1-e57a-4569-930d-dd59cbad38db",
   "metadata": {},
   "outputs": [],
   "source": [
    "from calculators_module import arithmetic_calculator\n",
    "\n",
    "# # example usage\n",
    "# arithmetic_calculator(2, 3, 'add')\n"
   ]
  },
  {
   "cell_type": "markdown",
   "id": "9bc342a3-fd43-490b-8bb9-255497c60da8",
   "metadata": {},
   "source": [
    "# Useful classes/objects/functions to send and retrieve Long-term-memmories from the database\n"
   ]
  },
  {
   "cell_type": "code",
   "execution_count": 8,
   "id": "2e6cacac-f4b3-4dce-bbef-3ae8fcb0ff60",
   "metadata": {},
   "outputs": [],
   "source": [
    "from Long_Term_Memory_Module import langgraph_ltm_to_pydantic_ltm, replace_ltm_in_db, SessionLocal, LTM_Table_Skeleton\n",
    "\n"
   ]
  },
  {
   "cell_type": "markdown",
   "id": "84ee66b8-f338-40ce-8c38-7f61ce4e0a42",
   "metadata": {},
   "source": [
    "# Defining the multiagent system\n"
   ]
  },
  {
   "cell_type": "code",
   "execution_count": null,
   "id": "3b9e71a3-751b-446f-8894-a38cdac6ea7c",
   "metadata": {},
   "outputs": [],
   "source": []
  },
  {
   "cell_type": "code",
   "execution_count": 9,
   "id": "a2b23e34-3107-4c49-9d1b-570568ef07cc",
   "metadata": {},
   "outputs": [],
   "source": [
    "# -------------------------\n",
    "# IMPORTS\n",
    "# -------------------------\n",
    "\n",
    "from IPython.display import Image, display\n",
    "from langgraph.graph import StateGraph, MessagesState, START, END\n",
    "from langchain_core.messages import HumanMessage, SystemMessage\n",
    "\n",
    "from langgraph.prebuilt import ToolNode, tools_condition\n",
    "from langgraph.store.memory import InMemoryStore\n",
    "from langchain_core.runnables.config import RunnableConfig\n",
    "from langgraph.checkpoint.memory import MemorySaver\n",
    "from langgraph.store.base import BaseStore\n",
    "\n",
    "from pydantic import BaseModel, Field\n",
    "from trustcall import create_extractor\n",
    "\n",
    "from langchain_core.documents import Document\n",
    "from langchain_core.messages import merge_message_runs\n",
    "\n",
    "import uuid\n",
    "from langchain_core.messages import HumanMessage, AIMessage\n",
    "from langchain_openai import ChatOpenAI\n",
    "\n",
    "from psycopg_pool import ConnectionPool\n",
    "from langgraph.checkpoint.postgres import PostgresSaver\n",
    "\n",
    "from typing import Optional, TypedDict, Literal\n",
    "from datetime import datetime\n",
    "\n",
    "\n",
    "# -------------------------\n",
    "# DATABASE SETUP\n",
    "# -------------------------\n",
    "\n",
    "# Connection settings for PostgreSQL (used for cross-thread memory)\n",
    "connection_kwargs = {\"autocommit\": True, \"prepare_threshold\": 0}\n",
    "\n",
    "# Initialize a persistent connection pool for efficient DB access\n",
    "pool = ConnectionPool(conninfo=MAIN_AGENT_DB_URI, max_size=20, kwargs=connection_kwargs)\n",
    "\n",
    "# Create a Postgres-backed checkpointer to persist state\n",
    "checkpointer = PostgresSaver(pool)\n",
    "checkpointer.setup()  # Ensures that the necessary tables are created\n",
    "\n",
    "\n",
    "# -------------------------\n",
    "# GRAPH STATE SCHEMA\n",
    "# -------------------------\n",
    "\n",
    "class GraphState(MessagesState):\n",
    "    \"\"\"Defines the main data structure used for graph state management.\"\"\"\n",
    "    question:            str\n",
    "    documents:           list[Document]\n",
    "    candidate_answer:    str\n",
    "    retries:             int\n",
    "    web_fallback:        bool\n",
    "    scrag_tool_call_id:  str\n",
    "\n",
    "\n",
    "# -------------------------\n",
    "# MODEL SETUP\n",
    "# -------------------------\n",
    "\n",
    "# Initialize OpenAI's GPT model\n",
    "model = ChatOpenAI(model=\"gpt-4.1-nano-2025-04-14\", temperature=0)\n",
    "\n",
    "# In-memory store for within-thread memory (temporary and session-limited)\n",
    "across_thread_memory = InMemoryStore()\n",
    "\n",
    "\n",
    "# -------------------------\n",
    "# SYSTEM PROMPT FOR MODEL\n",
    "# -------------------------\n",
    "\n",
    "MODEL_SYSTEM_MESSAGE = \"\"\"You are a helpful chatbot. \n",
    "\n",
    "You have a long-term memory which stores general user information.\n",
    "\n",
    "<user_profile>\n",
    "{user_profile}\n",
    "</user_profile>\n",
    "\n",
    "Instructions:\n",
    "\n",
    "1. Analyze the user's message carefully.\n",
    "\n",
    "2. If personal information is present, update the user profile via `Routing_Decision` with `update_type='prof'`.\n",
    "\n",
    "3. Do not inform the user if you updated the profile unless they explicitly ask for it.\n",
    "\n",
    "4. If the user's name is known, use it directly without updating the profile.\n",
    "\n",
    "5. For calculations, call `Routing_Decision` with `update_type='calc'`.\n",
    "\n",
    "6. For scientific queries, invoke `Routing_Decision` with `update_type='rag'`.\n",
    "\n",
    "7. After the RAG tool's message, just reply: \"I hope this answers your question.\"\n",
    "\n",
    "8. Verify each calculation by calling `Routing_Decision` with `update_type='calc'`. Perform all steps by calling the calc tool.\n",
    "\"\"\"\n",
    "\n",
    "\n",
    "class Routing_Decision(TypedDict):\n",
    "    \"\"\"Specifies the type of action the assistant should take.\"\"\"\n",
    "    update_type: Literal['prof', 'calc', 'rag']\n",
    "\n",
    "\n",
    "# -------------------------\n",
    "# FUNCTION: Call model\n",
    "# -------------------------\n",
    "\n",
    "def call_model(state: GraphState, config: RunnableConfig, store: BaseStore):\n",
    "    \"\"\"\n",
    "    Loads the user's long-term memory from the store and generates a personalized response \n",
    "    using the system prompt and conversation history.\n",
    "    \"\"\"\n",
    "    user_id = config[\"configurable\"][\"user_id\"]\n",
    "    namespace = (\"profile\", user_id)\n",
    "\n",
    "    # Retrieve existing long-term memory records from the database\n",
    "    with SessionLocal() as db:\n",
    "        user_records = db.query(LTM_Table_Skeleton).filter(LTM_Table_Skeleton.user_id == user_id).all() ######################################################\n",
    "\n",
    "    # Set and store retrieved memory (if any)\n",
    "    current_user_record = None if len(user_records) == 0 else user_records[0]\n",
    "    if current_user_record:\n",
    "        store.put(namespace=namespace, key=current_user_record.memory_key, value=current_user_record.memory_value)\n",
    "\n",
    "    # Search the memory store for user profile data\n",
    "    memories = store.search(namespace)\n",
    "    user_profile = memories[0].value if memories else None\n",
    "\n",
    "    # Format and invoke the model\n",
    "    system_msg = MODEL_SYSTEM_MESSAGE.format(user_profile=user_profile)\n",
    "    response = model.bind_tools([Routing_Decision], parallel_tool_calls=False).invoke(\n",
    "        [SystemMessage(content=system_msg)] + state[\"messages\"]\n",
    "    )\n",
    "    return {'messages': [response]}\n",
    "\n",
    "\n",
    "# -------------------------\n",
    "# FUNCTION: Perform calculations\n",
    "# -------------------------\n",
    "\n",
    "def calculations(state: GraphState, config: RunnableConfig, store: BaseStore):\n",
    "    \"\"\"\n",
    "    Invokes the appropriate calculator tool and returns the formatted result.\n",
    "    \"\"\"\n",
    "    response = model.bind_tools([arithmetic_calculator], parallel_tool_calls=False).invoke(state[\"messages\"][:-1])\n",
    "    args = response.tool_calls[0]['args']\n",
    "    result = arithmetic_calculator(args['n1'], args['n2'], args['ops'])\n",
    "    content = f\"{args['n1']} {args['ops']} {args['n2']} = {result}\"\n",
    "\n",
    "    tool_calls = state['messages'][-1].tool_calls\n",
    "    return {\"messages\": [{\"role\": \"tool\", \"content\": content, \"tool_call_id\": tool_calls[0]['id']}]}\n",
    "\n",
    "\n",
    "# -------------------------\n",
    "# FUNCTION: Pass message to RAG agent\n",
    "# -------------------------\n",
    "\n",
    "def interim_rag_node(state: GraphState, config: RunnableConfig, store: BaseStore):\n",
    "    \"\"\"\n",
    "    Forwards the request to the self-corrective RAG agent.\n",
    "    \"\"\"\n",
    "    tool_calls = state['messages'][-1].tool_calls\n",
    "    return {\"messages\": [{\"role\": \"tool\", \"content\": \"Passed on the request to self_corrective_rag_agent subgraph\", \"tool_call_id\": tool_calls[0]['id']}]}\n",
    "\n",
    "\n",
    "# -------------------------\n",
    "# USER PROFILE MODEL\n",
    "# -------------------------\n",
    "\n",
    "class Profile(BaseModel):\n",
    "    \"\"\"Represents structured user profile information.\"\"\"\n",
    "    name: Optional[str] = Field(description=\"User's name\", default=None)\n",
    "    bachelor: Optional[str] = Field(description=\"Bachelor's degree subject(s)\", default=None)\n",
    "    master: Optional[str] = Field(description=\"Master's degree subject(s)\", default=None)\n",
    "    phd: Optional[str] = Field(description=\"PhD subject(s)\", default=None)\n",
    "    connections: list[str] = Field(description=\"User's personal connections (friends, family, coworkers)\", default_factory=list)\n",
    "    interests: list[str] = Field(description=\"User's interests\", default_factory=list)\n",
    "\n",
    "\n",
    "# -------------------------\n",
    "# TRUSTCALL EXTRACTOR SETUP\n",
    "# -------------------------\n",
    "\n",
    "# Create a Trustcall extractor to update the user profile\n",
    "profile_extractor = create_extractor(\n",
    "    model,\n",
    "    tools=[Profile],\n",
    "    tool_choice=\"Profile\",\n",
    ")\n",
    "\n",
    "# Instruction to guide Trustcall memory extraction\n",
    "TRUSTCALL_INSTRUCTION = \"\"\"Reflect on following interaction. \n",
    "\n",
    "Use the provided tools to retain any necessary memories about the user. Specifically, extract the subject in which the user earned their bachelor's degree.\n",
    "\n",
    "Use parallel tool calling to handle updates and insertions simultaneously.\n",
    "\n",
    "System Time: {time}\"\"\"\n",
    "\n",
    "\n",
    "# -------------------------\n",
    "# FUNCTION: Update user profile\n",
    "# -------------------------\n",
    "\n",
    "def update_profile(state: GraphState, config: RunnableConfig, store: BaseStore):\n",
    "    \"\"\"\n",
    "    Uses the Trustcall extractor to analyze chat history and update the user's long-term memory.\n",
    "    \"\"\"\n",
    "    user_id = config[\"configurable\"][\"user_id\"]\n",
    "    namespace = (\"profile\", user_id)\n",
    "\n",
    "    # Retrieve current user record (if any) and load it into the memory store\n",
    "    with SessionLocal() as db:\n",
    "        user_records = db.query(LTM_Table_Skeleton).filter(LTM_Table_Skeleton.user_id == user_id).all() ###############################################\n",
    "\n",
    "    current_user_record = None if len(user_records) == 0 else user_records[0]\n",
    "    if current_user_record:\n",
    "        store.put(namespace=namespace, key=current_user_record.memory_key, value=current_user_record.memory_value)\n",
    "\n",
    "    # Prepare existing memory for the extractor\n",
    "    existing_items = store.search(namespace)\n",
    "    existing_memories = [(item.key, \"Profile\", item.value) for item in existing_items] if existing_items else None\n",
    "\n",
    "    # Merge messages and format instruction\n",
    "    updated_messages = list(merge_message_runs(messages=[\n",
    "        SystemMessage(content=TRUSTCALL_INSTRUCTION.format(time=datetime.now().isoformat()))\n",
    "    ] + state[\"messages\"][:-1]))\n",
    "\n",
    "    # Run the extractor\n",
    "    result = profile_extractor.invoke({\"messages\": updated_messages, \"existing\": existing_memories})\n",
    "\n",
    "    # Store updated memories\n",
    "    for r, rmeta in zip(result[\"responses\"], result[\"response_metadata\"]):\n",
    "        store.put(namespace, rmeta.get(\"json_doc_id\", str(uuid.uuid4())), r.model_dump(mode=\"json\"))\n",
    "\n",
    "    # Persist the memory to the database\n",
    "    current_pydantic_ltm = langgraph_ltm_to_pydantic_ltm(store.search(namespace)[0])\n",
    "    with SessionLocal() as db:\n",
    "        replace_ltm_in_db(current_pydantic_ltm, db)\n",
    "\n",
    "    tool_calls = state['messages'][-1].tool_calls\n",
    "    return {\"messages\": [{\"role\": \"tool\", \"content\": \"updated profile\", \"tool_call_id\": tool_calls[0]['id']}]}\n",
    "\n",
    "\n",
    "# -------------------------\n",
    "# FUNCTION: Routing logic\n",
    "# -------------------------\n",
    "\n",
    "def route_message(state: GraphState, config: RunnableConfig, store: BaseStore) -> Literal['calculations', 'update_profile', 'self_corrective_rag_agent', END]:\n",
    "    \"\"\"\n",
    "    Determines the next action based on tool call arguments:\n",
    "    - Profile update\n",
    "    - Calculation\n",
    "    - RAG query\n",
    "    \"\"\"\n",
    "    message = state['messages'][-1]\n",
    "    if len(message.tool_calls) == 0:\n",
    "        return END\n",
    "\n",
    "    tool_call = message.tool_calls[0]\n",
    "    action = tool_call['args']['update_type']\n",
    "\n",
    "    if action == \"prof\":\n",
    "        return \"update_profile\"\n",
    "    elif action == \"calc\":\n",
    "        return \"calculations\"\n",
    "    elif action == \"rag\":\n",
    "        return \"interim_rag_node\"\n",
    "    else:\n",
    "        raise ValueError(f\"Unexpected update_type: {action}\")\n",
    "\n",
    "\n",
    "# -------------------------\n",
    "# BUILD THE GRAPH\n",
    "# -------------------------\n",
    "\n",
    "builder = StateGraph(GraphState)\n",
    "\n",
    "builder.add_node(\"call_model\", call_model)\n",
    "builder.add_node(\"calculations\", calculations)\n",
    "builder.add_node(\"update_profile\", update_profile)\n",
    "builder.add_node(\"interim_rag_node\", interim_rag_node)\n",
    "builder.add_node(\"self_corrective_rag_agent\", Self_Corrective_RAG_Agent.compile())\n",
    "\n",
    "builder.add_edge(START, \"call_model\")\n",
    "builder.add_edge(\"interim_rag_node\", \"self_corrective_rag_agent\")\n",
    "builder.add_edge(\"self_corrective_rag_agent\", END)\n",
    "builder.add_edge(\"calculations\", \"call_model\")\n",
    "builder.add_edge(\"update_profile\", \"call_model\")\n",
    "\n",
    "builder.add_conditional_edges('call_model', route_message, ['calculations', 'update_profile', \"interim_rag_node\", END])\n",
    "\n",
    "memory = MemorySaver()\n",
    "\n",
    "# Compile the graph with persistent checkpointer and in-memory store\n",
    "graph = builder.compile(checkpointer=memory, store=across_thread_memory) #checkpointer\n",
    "\n"
   ]
  },
  {
   "cell_type": "code",
   "execution_count": 10,
   "id": "be4bb1ad-d40b-46c3-b95f-b27df06dfa6d",
   "metadata": {},
   "outputs": [
    {
     "data": {
      "image/png": "[encoded data removed]",
      "text/plain": [
       "<IPython.core.display.Image object>"
      ]
     },
     "metadata": {},
     "output_type": "display_data"
    }
   ],
   "source": [
    "# View\n",
    "try:\n",
    "    display(Image(graph.get_graph().draw_mermaid_png()))\n",
    "except:\n",
    "    print(graph.get_graph().draw_ascii(), '\\n\\n')\n",
    "    print(graph.get_graph().draw_mermaid())\n",
    "# https://mermaid.live/edit#pako:eNp1Ul2PmzAQ_CvWVlESCSjfSXynvFx-Qp9aTsgHdrBqbGTMtVfEf6-BHHdU6duOZ3Zn1nYPhSopYNhsei65wajfMqF-FRXRZjuiotOv1FZbwSUlejsMw2aTyasmTYW-XR4ymZk8b43V5_nux2NzXtDj1-b8vMcYM65bMwoLIkReW0ex-yj3N6boBDFcyXb3GUxs15TE0LzRinFBd2u4nyNQWS4BpnqxF2R2X4Ih1z2jjwAP_wa4x689_zPhBpHrzfQy8a5gPfKu5LbKzNk92gtlqKSMdMIg2yXwFxYynzFnfB63ovxaGRx44aphuv9J7qqGFNy8YX8lGG_oNu6FvaSsAAeumpeAje6oAzXVNRkh9JlEKANT0ZpmgG1ZEv0zg0wOtqch8rtS9XubVt21AsyIaC2a171wYv9OvZxquyDVT6qTBnB68qchgHv4DThIDp4fB2kchFESJUGSOvBmj1PvEPtRcAxPxyg6HeN4cODP5Ot7aRBExzSOQj9K0jA5DH8BLyP9pw\n"
   ]
  },
  {
   "cell_type": "code",
   "execution_count": 22,
   "id": "8a41c606-2238-4b67-a31f-2131fa53db2b",
   "metadata": {},
   "outputs": [
    {
     "name": "stdout",
     "output_type": "stream",
     "text": [
      "%%{init: {'flowchart': {'curve': 'linear'}}}%%\n",
      "graph TD;\n",
      "\t__start__([<p>__start__</p>]):::first\n",
      "\tcall_model(call_model)\n",
      "\tcalculations(calculations)\n",
      "\tupdate_profile(update_profile)\n",
      "\tinterim_rag_node(interim_rag_node)\n",
      "\tself_corrective_rag_agent(self_corrective_rag_agent)\n",
      "\t__end__([<p>__end__</p>]):::last\n",
      "\t__start__ --> call_model;\n",
      "\tcalculations --> call_model;\n",
      "\tinterim_rag_node --> self_corrective_rag_agent;\n",
      "\tself_corrective_rag_agent --> __end__;\n",
      "\tupdate_profile --> call_model;\n",
      "\tcall_model -.-> calculations;\n",
      "\tcall_model -.-> update_profile;\n",
      "\tcall_model -.-> interim_rag_node;\n",
      "\tcall_model -.-> __end__;\n",
      "\tclassDef default fill:#f2f0ff,line-height:1.2\n",
      "\tclassDef first fill-opacity:0\n",
      "\tclassDef last fill:#bfb6fc\n",
      "\n"
     ]
    }
   ],
   "source": [
    "print(graph.get_graph().draw_mermaid())"
   ]
  },
  {
   "cell_type": "code",
   "execution_count": 23,
   "id": "76b8bcca-a030-42ab-838d-3c376b288056",
   "metadata": {},
   "outputs": [],
   "source": [
    "# # We supply a thread ID for short-term (within-thread) memory\n",
    "# # We supply a user ID for long-term (across-thread) memory \n",
    "# config = {\"configurable\": {\"thread_id\": \"1\", \"user_id\": \"1\"}}\n",
    "\n",
    "# # User input \n",
    "# inp = {'messages': [HumanMessage(content='what is the final answer if i add 4 into 2, then subtract from it 1, then multiply by 1, then divide that by 2?')]}\n",
    "\n",
    "# # Run the graph\n",
    "# for chunk in graph.stream(inp, config, stream_mode=\"values\"):\n",
    "#     chunk[\"messages\"][-1].pretty_print()\n"
   ]
  },
  {
   "cell_type": "code",
   "execution_count": 24,
   "id": "9ec47c8d-fcb0-49cd-89b8-f6ea200d7f90",
   "metadata": {},
   "outputs": [],
   "source": [
    "# abhi koi memory show nahi hogi, cuz abhi agent aik bar bhi run hi nahi hua, pehli node main ja k, memmory datbase say yahan add hogi\n",
    "# Check for updated instructions\n",
    "user_id = \"1\"\n",
    "\n",
    "# Search \n",
    "for memory in across_thread_memory.search((\"profile\", user_id)):\n",
    "    print(memory.value)"
   ]
  },
  {
   "cell_type": "code",
   "execution_count": null,
   "id": "95473b5d-211f-4f35-af9b-e3d86afa55a9",
   "metadata": {},
   "outputs": [
    {
     "name": "stdout",
     "output_type": "stream",
     "text": [
      "================================\u001b[1m Human Message \u001b[0m=================================\n",
      "\n",
      "Hi do u remember my name?\n"
     ]
    }
   ],
   "source": [
    "\n",
    "\n",
    "\n",
    "# We supply a thread ID for short-term (within-thread) memory\n",
    "# We supply a user ID for long-term (across-thread) memory \n",
    "config = {\"configurable\": {\"thread_id\": \"1\", \"user_id\": \"1\"}}\n",
    "\n",
    "# User input to create a profile memory\n",
    "input_messages = [HumanMessage(content=\"Hi do u remember my name?\")]\n",
    "\n",
    "# Run the graph\n",
    "for chunk in graph.stream({\"messages\": input_messages}, config, stream_mode=\"values\"):\n",
    "    chunk[\"messages\"][-1].pretty_print()\n"
   ]
  },
  {
   "cell_type": "code",
   "execution_count": null,
   "id": "bb62e179-aed7-4911-be34-4e374376e44a",
   "metadata": {},
   "outputs": [],
   "source": [
    "# Check for updated instructions\n",
    "user_id = \"1\"\n",
    "\n",
    "# Search \n",
    "for memory in across_thread_memory.search((\"profile\", user_id)):\n",
    "    print(memory.value)"
   ]
  },
  {
   "cell_type": "code",
   "execution_count": null,
   "id": "771c9b0c-1feb-4324-9792-175cfa4596c3",
   "metadata": {},
   "outputs": [],
   "source": [
    "# We supply a thread ID for short-term (within-thread) memory\n",
    "# We supply a user ID for long-term (across-thread) memory \n",
    "config = {\"configurable\": {\"thread_id\": \"1\", \"user_id\": \"1\"}}\n",
    "\n",
    "# User input to create a profile memory\n",
    "input_messages = [HumanMessage(content=\"I have a master in physics as well. Update my profile.\")]\n",
    "\n",
    "# Run the graph\n",
    "for chunk in graph.stream({\"messages\": input_messages}, config, stream_mode=\"values\"):\n",
    "    chunk[\"messages\"][-1].pretty_print()\n"
   ]
  },
  {
   "cell_type": "code",
   "execution_count": null,
   "id": "b3b21cc5-2623-4f76-a378-ef6c154644c2",
   "metadata": {},
   "outputs": [],
   "source": [
    "# We supply a thread ID for short-term (within-thread) memory\n",
    "# We supply a user ID for long-term (across-thread) memory \n",
    "config = {\"configurable\": {\"thread_id\": \"1\", \"user_id\": \"1\"}}\n",
    "\n",
    "# User input to create a profile memory\n",
    "input_messages = [HumanMessage(content=\"No, sorry my name is Lance. kindly update my profile\")]\n",
    "\n",
    "# Run the graph\n",
    "for chunk in graph.stream({\"messages\": input_messages}, config, stream_mode=\"values\"):\n",
    "    chunk[\"messages\"][-1].pretty_print()\n"
   ]
  },
  {
   "cell_type": "code",
   "execution_count": null,
   "id": "fa3d8444-b726-494b-aded-2b38dff492df",
   "metadata": {},
   "outputs": [],
   "source": [
    "# We supply a thread ID for short-term (within-thread) memory\n",
    "# We supply a user ID for long-term (across-thread) memory \n",
    "config = {\"configurable\": {\"thread_id\": \"1\", \"user_id\": \"1\"}}\n",
    "\n",
    "# User input to create a profile memory\n",
    "input_messages = [HumanMessage(content=\"I am interested in physics and maths.\")]\n",
    "\n",
    "# Run the graph\n",
    "for chunk in graph.stream({\"messages\": input_messages}, config, stream_mode=\"values\"):\n",
    "    chunk[\"messages\"][-1].pretty_print()\n"
   ]
  },
  {
   "cell_type": "code",
   "execution_count": null,
   "id": "f9e107ef-e67a-40a9-9b0b-ee637bd348f6",
   "metadata": {},
   "outputs": [],
   "source": [
    "# We supply a thread ID for short-term (within-thread) memory\n",
    "# We supply a user ID for long-term (across-thread) memory \n",
    "config = {\"configurable\": {\"thread_id\": \"1\", \"user_id\": \"1\"}}\n",
    "\n",
    "# User input to create a profile memory\n",
    "input_messages = [HumanMessage(content=\"okay then update my interests\")]\n",
    "\n",
    "# Run the graph\n",
    "for chunk in graph.stream({\"messages\": input_messages}, config, stream_mode=\"values\"):\n",
    "    chunk[\"messages\"][-1].pretty_print()\n"
   ]
  },
  {
   "cell_type": "code",
   "execution_count": null,
   "id": "7cd1f0c3-0a85-4cd8-be8c-3dfb16dc7bd5",
   "metadata": {},
   "outputs": [],
   "source": [
    "# Check for updated instructions\n",
    "user_id = \"1\"\n",
    "\n",
    "# Search \n",
    "for memory in across_thread_memory.search((\"profile\", user_id)):\n",
    "    print(memory.value)\n"
   ]
  },
  {
   "cell_type": "code",
   "execution_count": null,
   "id": "3c3b3a2d-34ea-47d0-a321-e375d0de0ea4",
   "metadata": {},
   "outputs": [],
   "source": [
    "memory\n"
   ]
  },
  {
   "cell_type": "code",
   "execution_count": null,
   "id": "efc93a3e-da8d-4bc7-9928-208356a0964d",
   "metadata": {},
   "outputs": [],
   "source": []
  },
  {
   "cell_type": "code",
   "execution_count": null,
   "id": "02b03022-c12c-4e5a-8c7d-a3824813b40e",
   "metadata": {},
   "outputs": [],
   "source": [
    "for m in graph.get_state(config=config).values['messages']:\n",
    "    m.pretty_print()"
   ]
  },
  {
   "cell_type": "code",
   "execution_count": null,
   "id": "9af8a6ff-675a-4be6-9239-4cdca85e8558",
   "metadata": {},
   "outputs": [],
   "source": [
    "# send longterm memmory to the database as well, retrieve it from the database as well.\n",
    "# in the main table use userid as the primary key.\n"
   ]
  },
  {
   "cell_type": "code",
   "execution_count": null,
   "id": "a7920c7f-f413-4135-9a4c-1940c03a35e4",
   "metadata": {},
   "outputs": [],
   "source": [
    "# We supply a thread ID for short-term (within-thread) memory\n",
    "# We supply a user ID for long-term (across-thread) memory \n",
    "config = {\"configurable\": {\"thread_id\": \"1\", \"user_id\": \"1\"}}\n",
    "\n",
    "# User input to create a profile memory\n",
    "input_messages = [HumanMessage(content=\"What is the answer of (((5+2)*3)-1)/(3)? Do it step by step.\")]\n",
    "\n",
    "# Run the graph\n",
    "for chunk in graph.stream({\"messages\": input_messages}, config, stream_mode=\"values\"):\n",
    "    chunk[\"messages\"][-1].pretty_print()\n"
   ]
  },
  {
   "cell_type": "code",
   "execution_count": null,
   "id": "f7c6d016-ff22-4715-95a8-857c14f4ee13",
   "metadata": {},
   "outputs": [],
   "source": [
    "for m in graph.get_state(config=config).values['messages']:\n",
    "    m.pretty_print()\n"
   ]
  },
  {
   "cell_type": "markdown",
   "id": "926a18f8-2756-4496-809b-3abdff5b6c9b",
   "metadata": {},
   "source": [
    "# RAG"
   ]
  },
  {
   "cell_type": "code",
   "execution_count": 11,
   "id": "c7cd9bd9-9621-475b-86cf-6f74621429ca",
   "metadata": {},
   "outputs": [
    {
     "name": "stdout",
     "output_type": "stream",
     "text": [
      "================================\u001b[1m Human Message \u001b[0m=================================\n",
      "\n",
      "explain uncertainty priciple in quantum mechanics\n",
      "==================================\u001b[1m Ai Message \u001b[0m==================================\n",
      "Tool Calls:\n",
      "  Routing_Decision (call_v6A51578NotUtzKhQyMeDbj6)\n",
      " Call ID: call_v6A51578NotUtzKhQyMeDbj6\n",
      "  Args:\n",
      "    update_type: rag\n",
      "=================================\u001b[1m Tool Message \u001b[0m=================================\n",
      "\n",
      "Passed on the request to self_corrective_rag_agent subgraph\n",
      "---RETRIEVE---\n",
      "---GENERATE---\n",
      "---CHECK HALLUCINATIONS---\n",
      "---DECISION: ANSWER NOT GROUNDED, RETRY---\n",
      "---GENERATE---\n",
      "---CHECK HALLUCINATIONS---\n",
      "---DECISION: ANSWER NOT GROUNDED, RETRY---\n",
      "---GENERATE---\n",
      "---CHECK HALLUCINATIONS---\n",
      "---DECISION: ANSWER NOT GROUNDED, RETRY---\n",
      "---GENERATE---\n",
      "---CHECK HALLUCINATIONS---\n",
      "---DECISION: ANSWER GROUNDED, NOW CHECK RELEVANCE---\n",
      "---DECISION: ANSWER RELEVANT---\n",
      "---FINALIZING THE RESPONSE---\n",
      "==================================\u001b[1m Ai Message \u001b[0m==================================\n",
      "\n",
      "The uncertainty principle in quantum mechanics states that it is impossible to simultaneously know both the exact position and momentum of a particle, such as an electron. This is expressed mathematically as ∆x ≥ ℏ/2∆p, meaning increasing precision in one measurement decreases the accuracy of the other. It reflects a fundamental limit of nature, not just experimental difficulty, and is essential for the consistency of quantum theory.\n"
     ]
    }
   ],
   "source": [
    "# We supply a thread ID for short-term (within-thread) memory\n",
    "# We supply a user ID for long-term (across-thread) memory \n",
    "config = {\"configurable\": {\"thread_id\": \"1\", \"user_id\": \"1\"}}\n",
    "\n",
    "# User input to create a profile memory\n",
    "input_messages = [HumanMessage(content=\"explain uncertainty priciple in quantum mechanics\")]\n",
    "\n",
    "# Run the graph\n",
    "for chunk in graph.stream({\"messages\": input_messages}, config, stream_mode=\"values\"):\n",
    "    chunk[\"messages\"][-1].pretty_print()\n"
   ]
  },
  {
   "cell_type": "code",
   "execution_count": null,
   "id": "164b452a-b7f5-446e-b687-25edce7504bb",
   "metadata": {},
   "outputs": [],
   "source": []
  },
  {
   "cell_type": "code",
   "execution_count": null,
   "id": "74ce460e-3eeb-4701-9fb6-c372f02ebb08",
   "metadata": {},
   "outputs": [],
   "source": []
  },
  {
   "cell_type": "code",
   "execution_count": null,
   "id": "c43e4199-b817-4595-ba70-199a44fe0c57",
   "metadata": {},
   "outputs": [],
   "source": []
  },
  {
   "cell_type": "code",
   "execution_count": null,
   "id": "6ac29fd4-c736-404c-a3fb-135193f9a7ea",
   "metadata": {},
   "outputs": [],
   "source": []
  },
  {
   "cell_type": "code",
   "execution_count": null,
   "id": "397d26c4-e411-40c4-9ef2-54c657b6794d",
   "metadata": {},
   "outputs": [],
   "source": []
  },
  {
   "cell_type": "code",
   "execution_count": null,
   "id": "c7d12079-3681-46c5-836a-54e7f42a51f0",
   "metadata": {},
   "outputs": [],
   "source": []
  },
  {
   "cell_type": "code",
   "execution_count": null,
   "id": "0c6a979a-c4ef-4fa3-9831-612e07903844",
   "metadata": {},
   "outputs": [],
   "source": []
  },
  {
   "cell_type": "code",
   "execution_count": null,
   "id": "7b2f8021-5057-4402-86f7-3e2c377b60fd",
   "metadata": {},
   "outputs": [],
   "source": []
  },
  {
   "cell_type": "code",
   "execution_count": null,
   "id": "0dc6dd83-c8ba-491b-af6a-f542f2e2d8cf",
   "metadata": {},
   "outputs": [],
   "source": []
  },
  {
   "cell_type": "code",
   "execution_count": null,
   "id": "46ceccb5-7f48-4e6d-8a52-432557b8ea50",
   "metadata": {},
   "outputs": [],
   "source": []
  },
  {
   "cell_type": "code",
   "execution_count": null,
   "id": "ab5f6731-4b77-4b5e-b85e-1526f127575c",
   "metadata": {},
   "outputs": [],
   "source": []
  },
  {
   "cell_type": "code",
   "execution_count": null,
   "id": "4a040ed4-2bb0-41fa-9943-24a7c0fd3051",
   "metadata": {},
   "outputs": [],
   "source": []
  },
  {
   "cell_type": "code",
   "execution_count": null,
   "id": "e277c256-1a61-4307-b575-ea9a5ef8d124",
   "metadata": {},
   "outputs": [],
   "source": []
  },
  {
   "cell_type": "code",
   "execution_count": null,
   "id": "5b810473-d307-4682-8b12-443aabe5fb75",
   "metadata": {},
   "outputs": [],
   "source": []
  },
  {
   "cell_type": "code",
   "execution_count": null,
   "id": "4ffb222a-f412-446e-86e6-8e3a7150897b",
   "metadata": {},
   "outputs": [],
   "source": []
  },
  {
   "cell_type": "code",
   "execution_count": null,
   "id": "d198cd62-3080-43fe-9267-21ed39ecc66f",
   "metadata": {},
   "outputs": [],
   "source": []
  },
  {
   "cell_type": "code",
   "execution_count": null,
   "id": "139f455e-be81-4b94-bb22-41af939f9278",
   "metadata": {},
   "outputs": [],
   "source": []
  },
  {
   "cell_type": "code",
   "execution_count": null,
   "id": "6a26806b-1abb-40bc-b392-aca061aaf82a",
   "metadata": {},
   "outputs": [],
   "source": []
  },
  {
   "cell_type": "code",
   "execution_count": null,
   "id": "f641a252-4517-4fcf-82d0-020ac8c4a0d4",
   "metadata": {},
   "outputs": [],
   "source": []
  },
  {
   "cell_type": "code",
   "execution_count": null,
   "id": "2cad178c-c5bd-463e-99f5-a6632b29f38f",
   "metadata": {},
   "outputs": [],
   "source": []
  },
  {
   "cell_type": "code",
   "execution_count": null,
   "id": "34954fd2-0721-4482-816d-fa1e665ba4d6",
   "metadata": {},
   "outputs": [],
   "source": []
  },
  {
   "cell_type": "raw",
   "id": "4bddeb87-34e5-4972-9236-9d5b47ad6f8b",
   "metadata": {},
   "source": []
  },
  {
   "cell_type": "code",
   "execution_count": null,
   "id": "45641bc4-543c-4ab7-b0a7-94c9c835716d",
   "metadata": {},
   "outputs": [],
   "source": []
  },
  {
   "cell_type": "code",
   "execution_count": null,
   "id": "fa3170c7-5143-433e-8825-2aec4f2a0ff8",
   "metadata": {},
   "outputs": [],
   "source": []
  },
  {
   "cell_type": "code",
   "execution_count": null,
   "id": "2ae9dd40-6acc-4bc7-8a0a-44487f8b0c6a",
   "metadata": {},
   "outputs": [],
   "source": []
  },
  {
   "cell_type": "code",
   "execution_count": null,
   "id": "d31476f3-a4ce-4fa3-a030-28f8d5072c60",
   "metadata": {},
   "outputs": [],
   "source": []
  },
  {
   "cell_type": "code",
   "execution_count": null,
   "id": "361c2e7a-ce34-4849-93ad-5a90ee15db11",
   "metadata": {},
   "outputs": [],
   "source": []
  },
  {
   "cell_type": "code",
   "execution_count": null,
   "id": "f47b65fa-786b-437e-a747-5ca63c96e898",
   "metadata": {},
   "outputs": [],
   "source": []
  },
  {
   "cell_type": "code",
   "execution_count": null,
   "id": "1f3c1c29-d323-4e86-b93e-742e63c912fb",
   "metadata": {},
   "outputs": [],
   "source": []
  },
  {
   "cell_type": "code",
   "execution_count": null,
   "id": "46dc1356-c5f0-4481-a1c1-3588e6344a4c",
   "metadata": {},
   "outputs": [],
   "source": []
  },
  {
   "cell_type": "code",
   "execution_count": null,
   "id": "c8d66703-6b55-4d96-8a9b-47eb22f32f6f",
   "metadata": {},
   "outputs": [],
   "source": []
  },
  {
   "cell_type": "code",
   "execution_count": null,
   "id": "ba720193-781a-4c60-833a-beffd8c93571",
   "metadata": {},
   "outputs": [],
   "source": []
  },
  {
   "cell_type": "code",
   "execution_count": null,
   "id": "6cce620b-cc0b-46e0-b65c-81f62abeaad1",
   "metadata": {},
   "outputs": [],
   "source": []
  },
  {
   "cell_type": "code",
   "execution_count": null,
   "id": "41c3eda6-2b50-43d9-a5b0-51e20b15245f",
   "metadata": {},
   "outputs": [],
   "source": []
  },
  {
   "cell_type": "code",
   "execution_count": null,
   "id": "7e60d3ec-895d-4b97-98a7-93fff11c9307",
   "metadata": {},
   "outputs": [],
   "source": []
  },
  {
   "cell_type": "code",
   "execution_count": null,
   "id": "546d414a-7cc4-461b-a821-b98a53136720",
   "metadata": {},
   "outputs": [],
   "source": []
  },
  {
   "cell_type": "code",
   "execution_count": null,
   "id": "17b30c62-4a6a-4af4-bdea-2697affe6ffa",
   "metadata": {},
   "outputs": [],
   "source": []
  },
  {
   "cell_type": "code",
   "execution_count": null,
   "id": "9305ec42-0aae-4662-95b2-9bcfa8661acb",
   "metadata": {},
   "outputs": [],
   "source": []
  },
  {
   "cell_type": "code",
   "execution_count": null,
   "id": "d0efbca4-4487-481f-af0e-c5f55aa2009c",
   "metadata": {},
   "outputs": [],
   "source": []
  }
 ],
 "metadata": {
  "kernelspec": {
   "display_name": "Python 3 (ipykernel)",
   "language": "python",
   "name": "python3"
  },
  "language_info": {
   "codemirror_mode": {
    "name": "ipython",
    "version": 3
   },
   "file_extension": ".py",
   "mimetype": "text/x-python",
   "name": "python",
   "nbconvert_exporter": "python",
   "pygments_lexer": "ipython3",
   "version": "3.13.3"
  }
 },
 "nbformat": 4,
 "nbformat_minor": 5
}
